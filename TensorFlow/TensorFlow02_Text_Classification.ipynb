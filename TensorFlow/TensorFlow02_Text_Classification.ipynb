{
  "nbformat": 4,
  "nbformat_minor": 0,
  "metadata": {
    "colab": {
      "name": "TensorFlow02 - Text Classification.ipynb",
      "version": "0.3.2",
      "provenance": [],
      "collapsed_sections": [],
      "include_colab_link": true
    },
    "kernelspec": {
      "name": "python3",
      "display_name": "Python 3"
    },
    "accelerator": "GPU"
  },
  "cells": [
    {
      "cell_type": "markdown",
      "metadata": {
        "id": "view-in-github",
        "colab_type": "text"
      },
      "source": [
        "<a href=\"https://colab.research.google.com/github/jianzhiw/Deep-Learning/blob/master/TensorFlow/TensorFlow02_Text_Classification.ipynb\" target=\"_parent\"><img src=\"https://colab.research.google.com/assets/colab-badge.svg\" alt=\"Open In Colab\"/></a>"
      ]
    },
    {
      "cell_type": "markdown",
      "metadata": {
        "id": "oGAQvLTJpsNt",
        "colab_type": "text"
      },
      "source": [
        "# IMDB Dataset #\n",
        "\n",
        "Yet another popular dataset widely used in any other deep learning tutorial. IMDB dataset that contains the text of 50,000 movie reviews from the Internet Movie Database. These are split into 25,000 reviews for training and 25,000 reviews for testing. The training and testing sets are balanced, meaning they contain an equal number of positive and negative reviews.\n",
        "<br></br>\n",
        "This notebook uses tf.keras, a high-level API to build and train models in TensorFlow. For a more advanced text classification tutorial using [tf.keras](https://www.tensorflow.org/api_docs/python/tf/keras), see the [MLCC Text Classification Guide](https://developers.google.com/machine-learning/guides/text-classification/)."
      ]
    },
    {
      "cell_type": "code",
      "metadata": {
        "id": "VLMSY8P3pmer",
        "colab_type": "code",
        "outputId": "b1a512a2-e21f-4139-9395-376c193477b7",
        "colab": {
          "base_uri": "https://localhost:8080/",
          "height": 102
        }
      },
      "source": [
        "# keras.datasets.imdb is broken in 1.13 and 1.14, by np 1.16.3\n",
        "!pip install -q tf_nightly"
      ],
      "execution_count": 1,
      "outputs": [
        {
          "output_type": "stream",
          "text": [
            "\u001b[K     |████████████████████████████████| 110.2MB 1.5MB/s \n",
            "\u001b[K     |████████████████████████████████| 61kB 21.3MB/s \n",
            "\u001b[K     |████████████████████████████████| 4.3MB 30.4MB/s \n",
            "\u001b[K     |████████████████████████████████| 512kB 44.9MB/s \n",
            "\u001b[?25h  Building wheel for opt-einsum (setup.py) ... \u001b[?25l\u001b[?25hdone\n"
          ],
          "name": "stdout"
        }
      ]
    },
    {
      "cell_type": "code",
      "metadata": {
        "id": "eqnqk3GqrVkr",
        "colab_type": "code",
        "outputId": "ffd05302-772b-4a01-8506-6851b20f340e",
        "colab": {
          "base_uri": "https://localhost:8080/",
          "height": 272
        }
      },
      "source": [
        "from __future__ import absolute_import, division, print_function, unicode_literals\n",
        "\n",
        "import tensorflow as tf\n",
        "from tensorflow import keras\n",
        "\n",
        "import numpy as np\n",
        "\n",
        "print(tf.__version__)"
      ],
      "execution_count": 2,
      "outputs": [
        {
          "output_type": "stream",
          "text": [
            "WARNING: Logging before flag parsing goes to stderr.\n",
            "W0812 02:25:00.260718 140166742861696 __init__.py:689] \n",
            "\n",
            "  TensorFlow's `tf-nightly` package will soon be updated to TensorFlow 2.0.\n",
            "\n",
            "  Please upgrade your code to TensorFlow 2.0:\n",
            "    * https://www.tensorflow.org/beta/guide/migration_guide\n",
            "\n",
            "  Or install the latest stable TensorFlow 1.X release:\n",
            "    * `pip install -U \"tensorflow==1.*\"`\n",
            "\n",
            "  Otherwise your code may be broken by the change.\n",
            "\n",
            "  \n"
          ],
          "name": "stderr"
        },
        {
          "output_type": "stream",
          "text": [
            "1.15.0-dev20190811\n"
          ],
          "name": "stdout"
        }
      ]
    },
    {
      "cell_type": "markdown",
      "metadata": {
        "id": "7TgJBxjjrqRx",
        "colab_type": "text"
      },
      "source": [
        "The IMDB dataset comes packaged with TensorFlow. It has already been preprocessed such that the reviews (sequences of words) have been converted to sequences of integers, where each integer represents a specific word in a dictionary."
      ]
    },
    {
      "cell_type": "code",
      "metadata": {
        "id": "yowf3_pYrhWz",
        "colab_type": "code",
        "outputId": "17f88513-3208-4218-d767-f5b860c21188",
        "colab": {
          "base_uri": "https://localhost:8080/",
          "height": 51
        }
      },
      "source": [
        "imdb = keras.datasets.imdb\n",
        "\n",
        "(train_data, train_labels), (test_data, test_labels) = imdb.load_data(num_words=10000)"
      ],
      "execution_count": 3,
      "outputs": [
        {
          "output_type": "stream",
          "text": [
            "Downloading data from https://storage.googleapis.com/tensorflow/tf-keras-datasets/imdb.npz\n",
            "17465344/17464789 [==============================] - 0s 0us/step\n"
          ],
          "name": "stdout"
        }
      ]
    },
    {
      "cell_type": "markdown",
      "metadata": {
        "id": "bIB-CTCjrxy7",
        "colab_type": "text"
      },
      "source": [
        "The argument num_words=10000 keeps the top 10,000 most frequently occurring words in the training data. The rare words are discarded to keep the size of the data manageable."
      ]
    },
    {
      "cell_type": "markdown",
      "metadata": {
        "id": "7OQzvkZGr3Cb",
        "colab_type": "text"
      },
      "source": [
        "# Explore the data #\n",
        "Let's take a moment to understand the format of the data. The dataset comes preprocessed: each example is an array of integers representing the words of the movie review. Each label is an integer value of either 0 or 1, where 0 is a negative review, and 1 is a positive review."
      ]
    },
    {
      "cell_type": "code",
      "metadata": {
        "id": "FsKasvqLrtwb",
        "colab_type": "code",
        "outputId": "c3877143-04a3-47a5-b3c2-143a04094b10",
        "colab": {
          "base_uri": "https://localhost:8080/",
          "height": 34
        }
      },
      "source": [
        "print(\"Training entries: {}, labels: {}\".format(len(train_data), len(train_labels)))"
      ],
      "execution_count": 4,
      "outputs": [
        {
          "output_type": "stream",
          "text": [
            "Training entries: 25000, labels: 25000\n"
          ],
          "name": "stdout"
        }
      ]
    },
    {
      "cell_type": "markdown",
      "metadata": {
        "id": "eKTJtfPhsD_j",
        "colab_type": "text"
      },
      "source": [
        "The text of reviews have been converted to integers, where each integer represents a specific word in a dictionary. Here's what the first review looks like:"
      ]
    },
    {
      "cell_type": "code",
      "metadata": {
        "id": "XwXQJ1masAjD",
        "colab_type": "code",
        "outputId": "df35b1c3-7556-4e32-bcda-3d044a829441",
        "colab": {
          "base_uri": "https://localhost:8080/",
          "height": 54
        }
      },
      "source": [
        "print(train_data[0])"
      ],
      "execution_count": 5,
      "outputs": [
        {
          "output_type": "stream",
          "text": [
            "[1, 14, 22, 16, 43, 530, 973, 1622, 1385, 65, 458, 4468, 66, 3941, 4, 173, 36, 256, 5, 25, 100, 43, 838, 112, 50, 670, 2, 9, 35, 480, 284, 5, 150, 4, 172, 112, 167, 2, 336, 385, 39, 4, 172, 4536, 1111, 17, 546, 38, 13, 447, 4, 192, 50, 16, 6, 147, 2025, 19, 14, 22, 4, 1920, 4613, 469, 4, 22, 71, 87, 12, 16, 43, 530, 38, 76, 15, 13, 1247, 4, 22, 17, 515, 17, 12, 16, 626, 18, 2, 5, 62, 386, 12, 8, 316, 8, 106, 5, 4, 2223, 5244, 16, 480, 66, 3785, 33, 4, 130, 12, 16, 38, 619, 5, 25, 124, 51, 36, 135, 48, 25, 1415, 33, 6, 22, 12, 215, 28, 77, 52, 5, 14, 407, 16, 82, 2, 8, 4, 107, 117, 5952, 15, 256, 4, 2, 7, 3766, 5, 723, 36, 71, 43, 530, 476, 26, 400, 317, 46, 7, 4, 2, 1029, 13, 104, 88, 4, 381, 15, 297, 98, 32, 2071, 56, 26, 141, 6, 194, 7486, 18, 4, 226, 22, 21, 134, 476, 26, 480, 5, 144, 30, 5535, 18, 51, 36, 28, 224, 92, 25, 104, 4, 226, 65, 16, 38, 1334, 88, 12, 16, 283, 5, 16, 4472, 113, 103, 32, 15, 16, 5345, 19, 178, 32]\n"
          ],
          "name": "stdout"
        }
      ]
    },
    {
      "cell_type": "markdown",
      "metadata": {
        "id": "j6Hc4onAsHoj",
        "colab_type": "text"
      },
      "source": [
        "Movie reviews may be different lengths. The below code shows the number of words in the first and second reviews. Since inputs to a neural network must be the same length, we'll need to resolve this later."
      ]
    },
    {
      "cell_type": "code",
      "metadata": {
        "id": "izZsjMKcsGTT",
        "colab_type": "code",
        "outputId": "f08831e1-d07d-450f-ebf2-3401ac915e0a",
        "colab": {
          "base_uri": "https://localhost:8080/",
          "height": 34
        }
      },
      "source": [
        "len(train_data[0]), len(train_data[1])"
      ],
      "execution_count": 6,
      "outputs": [
        {
          "output_type": "execute_result",
          "data": {
            "text/plain": [
              "(218, 189)"
            ]
          },
          "metadata": {
            "tags": []
          },
          "execution_count": 6
        }
      ]
    },
    {
      "cell_type": "markdown",
      "metadata": {
        "id": "D3dZRu-CsnP7",
        "colab_type": "text"
      },
      "source": [
        "# Convert the integers back to words #\n",
        "It may be useful to know how to convert integers back to text. Here, we'll create a helper function to query a dictionary object that contains the integer to string mapping:"
      ]
    },
    {
      "cell_type": "code",
      "metadata": {
        "id": "flgFNAZ5sLfT",
        "colab_type": "code",
        "outputId": "35e94244-f5c5-47e6-bbf7-72fdea07635d",
        "colab": {
          "base_uri": "https://localhost:8080/",
          "height": 51
        }
      },
      "source": [
        "# A dictionary mapping words to an integer index\n",
        "word_index = imdb.get_word_index()\n",
        "\n",
        "# The first indices are reserved\n",
        "word_index = {k:(v+3) for k,v in word_index.items()}\n",
        "word_index[\"<PAD>\"] = 0\n",
        "word_index[\"<START>\"] = 1\n",
        "word_index[\"<UNK>\"] = 2  # unknown\n",
        "word_index[\"<UNUSED>\"] = 3\n",
        "\n",
        "reverse_word_index = dict([(value, key) for (key, value) in word_index.items()])\n",
        "\n",
        "def decode_review(text):\n",
        "    return ' '.join([reverse_word_index.get(i, '?') for i in text])"
      ],
      "execution_count": 7,
      "outputs": [
        {
          "output_type": "stream",
          "text": [
            "Downloading data from https://storage.googleapis.com/tensorflow/tf-keras-datasets/imdb_word_index.json\n",
            "1646592/1641221 [==============================] - 0s 0us/step\n"
          ],
          "name": "stdout"
        }
      ]
    },
    {
      "cell_type": "markdown",
      "metadata": {
        "id": "e7r2EQUys1oj",
        "colab_type": "text"
      },
      "source": [
        "Now we can use the decode_review function to display the text for the first review:"
      ]
    },
    {
      "cell_type": "code",
      "metadata": {
        "id": "-0Lg4-zWsxiz",
        "colab_type": "code",
        "outputId": "d60d24f7-94e1-46d2-cd4b-7049d7999605",
        "colab": {
          "base_uri": "https://localhost:8080/",
          "height": 54
        }
      },
      "source": [
        "decode_review(train_data[0])"
      ],
      "execution_count": 8,
      "outputs": [
        {
          "output_type": "execute_result",
          "data": {
            "text/plain": [
              "\"<START> this film was just brilliant casting location scenery story direction everyone's really suited the part they played and you could just imagine being there robert <UNK> is an amazing actor and now the same being director <UNK> father came from the same scottish island as myself so i loved the fact there was a real connection with this film the witty remarks throughout the film were great it was just brilliant so much that i bought the film as soon as it was released for <UNK> and would recommend it to everyone to watch and the fly fishing was amazing really cried at the end it was so sad and you know what they say if you cry at a film it must have been good and this definitely was also <UNK> to the two little boy's that played the <UNK> of norman and paul they were just brilliant children are often left out of the <UNK> list i think because the stars that play them all grown up are such a big profile for the whole film but these children are amazing and should be praised for what they have done don't you think the whole story was so lovely because it was true and was someone's life after all that was shared with us all\""
            ]
          },
          "metadata": {
            "tags": []
          },
          "execution_count": 8
        }
      ]
    },
    {
      "cell_type": "markdown",
      "metadata": {
        "id": "7JJGU9eWtIgL",
        "colab_type": "text"
      },
      "source": [
        "# Prepare the data #\n",
        "The reviews—the arrays of integers—must be converted to tensors before fed into the neural network. This conversion can be done a couple of ways:\n",
        "\n",
        "* Convert the arrays into vectors of 0s and 1s indicating word occurrence, similar to a one-hot encoding. For example, the sequence [3, 5] would become a 10,000-dimensional vector that is all zeros except for indices 3 and 5, which are ones. Then, make this the first layer in our network—a Dense layer—that can handle floating point vector data. This approach is memory intensive, though, requiring a num_words * num_reviews size matrix.\n",
        "\n",
        "* Alternatively, we can pad the arrays so they all have the same length, then create an integer tensor of shape max_length * num_reviews. We can use an embedding layer capable of handling this shape as the first layer in our network.\n",
        "<br></br>\n",
        "\n",
        "In this tutorial, we will use the second approach.\n",
        "<br></br>\n",
        "Since the movie reviews must be the same length, we will use the pad_sequences function to standardize the lengths:"
      ]
    },
    {
      "cell_type": "code",
      "metadata": {
        "id": "wJThSQN8s4JL",
        "colab_type": "code",
        "colab": {}
      },
      "source": [
        "train_data = keras.preprocessing.sequence.pad_sequences(train_data,\n",
        "                                                        value=word_index[\"<PAD>\"],\n",
        "                                                        padding='post',\n",
        "                                                        maxlen=256)\n",
        "\n",
        "test_data = keras.preprocessing.sequence.pad_sequences(test_data,\n",
        "                                                       value=word_index[\"<PAD>\"],\n",
        "                                                       padding='post',\n",
        "                                                       maxlen=256)"
      ],
      "execution_count": 0,
      "outputs": []
    },
    {
      "cell_type": "markdown",
      "metadata": {
        "id": "9xZL-kYXtpDi",
        "colab_type": "text"
      },
      "source": [
        "Let's look at the length of the examples now:"
      ]
    },
    {
      "cell_type": "code",
      "metadata": {
        "id": "UwwP5Gw9tkSS",
        "colab_type": "code",
        "outputId": "6addaa36-97f0-4e2e-8b79-dc44e8fd475a",
        "colab": {
          "base_uri": "https://localhost:8080/",
          "height": 34
        }
      },
      "source": [
        "len(train_data[0]), len(train_data[1])"
      ],
      "execution_count": 10,
      "outputs": [
        {
          "output_type": "execute_result",
          "data": {
            "text/plain": [
              "(256, 256)"
            ]
          },
          "metadata": {
            "tags": []
          },
          "execution_count": 10
        }
      ]
    },
    {
      "cell_type": "markdown",
      "metadata": {
        "id": "JHdfA9N9tvfr",
        "colab_type": "text"
      },
      "source": [
        "And inspect the (now padded) first review:"
      ]
    },
    {
      "cell_type": "code",
      "metadata": {
        "id": "zERxEGgItogB",
        "colab_type": "code",
        "outputId": "6f86732a-93a2-4fab-c249-7e6ddba9d0e6",
        "colab": {
          "base_uri": "https://localhost:8080/",
          "height": 340
        }
      },
      "source": [
        "print(train_data[0])"
      ],
      "execution_count": 11,
      "outputs": [
        {
          "output_type": "stream",
          "text": [
            "[   1   14   22   16   43  530  973 1622 1385   65  458 4468   66 3941\n",
            "    4  173   36  256    5   25  100   43  838  112   50  670    2    9\n",
            "   35  480  284    5  150    4  172  112  167    2  336  385   39    4\n",
            "  172 4536 1111   17  546   38   13  447    4  192   50   16    6  147\n",
            " 2025   19   14   22    4 1920 4613  469    4   22   71   87   12   16\n",
            "   43  530   38   76   15   13 1247    4   22   17  515   17   12   16\n",
            "  626   18    2    5   62  386   12    8  316    8  106    5    4 2223\n",
            " 5244   16  480   66 3785   33    4  130   12   16   38  619    5   25\n",
            "  124   51   36  135   48   25 1415   33    6   22   12  215   28   77\n",
            "   52    5   14  407   16   82    2    8    4  107  117 5952   15  256\n",
            "    4    2    7 3766    5  723   36   71   43  530  476   26  400  317\n",
            "   46    7    4    2 1029   13  104   88    4  381   15  297   98   32\n",
            " 2071   56   26  141    6  194 7486   18    4  226   22   21  134  476\n",
            "   26  480    5  144   30 5535   18   51   36   28  224   92   25  104\n",
            "    4  226   65   16   38 1334   88   12   16  283    5   16 4472  113\n",
            "  103   32   15   16 5345   19  178   32    0    0    0    0    0    0\n",
            "    0    0    0    0    0    0    0    0    0    0    0    0    0    0\n",
            "    0    0    0    0    0    0    0    0    0    0    0    0    0    0\n",
            "    0    0    0    0]\n"
          ],
          "name": "stdout"
        }
      ]
    },
    {
      "cell_type": "markdown",
      "metadata": {
        "id": "HxtPTPxMt4Wa",
        "colab_type": "text"
      },
      "source": [
        "# Build the model #\n",
        "The neural network is created by stacking layers—this requires two main architectural decisions:\n",
        "\n",
        "* How many layers to use in the model?\n",
        "* How many hidden units to use for each layer?\n",
        "<br></br>\n",
        "\n",
        "In this example, the input data consists of an array of word-indices. The labels to predict are either 0 or 1. Let's build a model for this problem:"
      ]
    },
    {
      "cell_type": "code",
      "metadata": {
        "id": "lppBO6DCtygq",
        "colab_type": "code",
        "colab": {
          "base_uri": "https://localhost:8080/",
          "height": 411
        },
        "outputId": "22a318a4-cb20-4c88-b849-34569dcc0cc4"
      },
      "source": [
        "# input shape is the vocabulary count used for the movie reviews (10,000 words)\n",
        "vocab_size = 10000\n",
        "\n",
        "model = keras.Sequential()\n",
        "model.add(keras.layers.Embedding(vocab_size, 16))\n",
        "model.add(keras.layers.GlobalAveragePooling1D())\n",
        "model.add(keras.layers.Dense(16, activation=tf.nn.relu))\n",
        "model.add(keras.layers.Dense(1, activation=tf.nn.sigmoid))\n",
        "\n",
        "model.summary()"
      ],
      "execution_count": 12,
      "outputs": [
        {
          "output_type": "stream",
          "text": [
            "W0812 02:29:07.952497 140166742861696 deprecation.py:506] From /usr/local/lib/python3.6/dist-packages/tensorflow_core/python/keras/initializers.py:119: calling RandomUniform.__init__ (from tensorflow.python.ops.init_ops) with dtype is deprecated and will be removed in a future version.\n",
            "Instructions for updating:\n",
            "Call initializer instance with the dtype argument instead of passing it to the constructor\n",
            "W0812 02:29:07.973955 140166742861696 deprecation.py:506] From /usr/local/lib/python3.6/dist-packages/tensorflow_core/python/ops/resource_variable_ops.py:1633: calling BaseResourceVariable.__init__ (from tensorflow.python.ops.resource_variable_ops) with constraint is deprecated and will be removed in a future version.\n",
            "Instructions for updating:\n",
            "If using Keras pass *_constraint arguments to layers.\n"
          ],
          "name": "stderr"
        },
        {
          "output_type": "stream",
          "text": [
            "Model: \"sequential\"\n",
            "_________________________________________________________________\n",
            "Layer (type)                 Output Shape              Param #   \n",
            "=================================================================\n",
            "embedding (Embedding)        (None, None, 16)          160000    \n",
            "_________________________________________________________________\n",
            "global_average_pooling1d (Gl (None, 16)                0         \n",
            "_________________________________________________________________\n",
            "dense (Dense)                (None, 16)                272       \n",
            "_________________________________________________________________\n",
            "dense_1 (Dense)              (None, 1)                 17        \n",
            "=================================================================\n",
            "Total params: 160,289\n",
            "Trainable params: 160,289\n",
            "Non-trainable params: 0\n",
            "_________________________________________________________________\n"
          ],
          "name": "stdout"
        }
      ]
    },
    {
      "cell_type": "markdown",
      "metadata": {
        "id": "vRPxXcQKqjuS",
        "colab_type": "text"
      },
      "source": [
        "The layers are stacked sequentially to build the classifier:\n",
        "\n",
        "1. The first layer is an Embedding layer. This layer takes the integer-encoded vocabulary and looks up the embedding vector for each word-index. These vectors are learned as the model trains. The vectors add a dimension to the output array. The resulting dimensions are: (batch, sequence, embedding).\n",
        "2. Next, a GlobalAveragePooling1D layer returns a fixed-length output vector for each example by averaging over the sequence dimension. This allows the model to handle input of variable length, in the simplest way possible.\n",
        "3. This fixed-length output vector is piped through a fully-connected (Dense) layer with 16 hidden units.\n",
        "4. The last layer is densely connected with a single output node. Using the sigmoid activation function, this value is a float between 0 and 1, representing a probability, or confidence level.\n"
      ]
    },
    {
      "cell_type": "markdown",
      "metadata": {
        "id": "Dck4o3frrE7S",
        "colab_type": "text"
      },
      "source": [
        "## Hidden units ##\n",
        "The above model has two intermediate or \"hidden\" layers, between the input and output. The number of outputs (units, nodes, or neurons) is the dimension of the representational space for the layer. In other words, the amount of freedom the network is allowed when learning an internal representation.\n",
        "<br></br>\n",
        "If a model has more hidden units (a higher-dimensional representation space), and/or more layers, then the network can learn more complex representations. However, it makes the network more computationally expensive and may lead to learning unwanted patterns—patterns that improve performance on training data but not on the test data. This is called overfitting, and we'll explore it later.\n",
        "\n",
        "## Loss function and optimizer ##\n",
        "A model needs a loss function and an optimizer for training. Since this is a binary classification problem and the model outputs a probability (a single-unit layer with a sigmoid activation), we'll use the binary_crossentropy loss function.\n",
        "<br></br>\n",
        "This isn't the only choice for a loss function, you could, for instance, choose mean_squared_error. But, generally, binary_crossentropy is better for dealing with probabilities—it measures the \"distance\" between probability distributions, or in our case, between the ground-truth distribution and the predictions.\n",
        "<br></br>\n",
        "Now, configure the model to use an optimizer and a loss function:"
      ]
    },
    {
      "cell_type": "code",
      "metadata": {
        "id": "fGWPfvoEqGVW",
        "colab_type": "code",
        "colab": {
          "base_uri": "https://localhost:8080/",
          "height": 88
        },
        "outputId": "c464a332-eb9c-4d23-c8fa-84c25e821ade"
      },
      "source": [
        "model.compile(optimizer='adam',\n",
        "              loss='binary_crossentropy',\n",
        "              metrics=['acc'])"
      ],
      "execution_count": 13,
      "outputs": [
        {
          "output_type": "stream",
          "text": [
            "W0812 02:35:46.469962 140166742861696 deprecation.py:323] From /usr/local/lib/python3.6/dist-packages/tensorflow_core/python/ops/nn_impl.py:183: where (from tensorflow.python.ops.array_ops) is deprecated and will be removed in a future version.\n",
            "Instructions for updating:\n",
            "Use tf.where in 2.0, which has the same broadcast rule as np.where\n"
          ],
          "name": "stderr"
        }
      ]
    },
    {
      "cell_type": "markdown",
      "metadata": {
        "id": "yowhg2fXr0PD",
        "colab_type": "text"
      },
      "source": [
        "# Create a validation set #\n",
        "When training, we want to check the accuracy of the model on data it hasn't seen before. Create a validation set by setting apart 10,000 examples from the original training data. (Why not use the testing set now? Our goal is to develop and tune our model using only the training data, then use the test data just once to evaluate our accuracy)."
      ]
    },
    {
      "cell_type": "code",
      "metadata": {
        "id": "-pU9QiJtrq39",
        "colab_type": "code",
        "colab": {}
      },
      "source": [
        "x_val = train_data[:10000]\n",
        "partial_x_train = train_data[10000:]\n",
        "\n",
        "y_val = train_labels[:10000]\n",
        "partial_y_train = train_labels[10000:]"
      ],
      "execution_count": 0,
      "outputs": []
    },
    {
      "cell_type": "markdown",
      "metadata": {
        "id": "q3WVD9aJsL4P",
        "colab_type": "text"
      },
      "source": [
        "# Train the model #\n",
        "Train the model for 40 epochs in mini-batches of 512 samples. This is 40 iterations over all samples in the x_train and y_train tensors. While training, monitor the model's loss and accuracy on the 10,000 samples from the validation set:"
      ]
    },
    {
      "cell_type": "code",
      "metadata": {
        "id": "K0P9EgVMr8EY",
        "colab_type": "code",
        "colab": {
          "base_uri": "https://localhost:8080/",
          "height": 1000
        },
        "outputId": "1b789861-69ff-4409-8fdc-d897909363b3"
      },
      "source": [
        "history = model.fit(partial_x_train,\n",
        "                    partial_y_train,\n",
        "                    epochs=40,\n",
        "                    batch_size=512,\n",
        "                    validation_data=(x_val, y_val),\n",
        "                    verbose=1)"
      ],
      "execution_count": 17,
      "outputs": [
        {
          "output_type": "stream",
          "text": [
            "W0812 02:38:29.470932 140166742861696 deprecation.py:323] From /usr/local/lib/python3.6/dist-packages/tensorflow_core/python/keras/optimizer_v2/optimizer_v2.py:455: BaseResourceVariable.constraint (from tensorflow.python.ops.resource_variable_ops) is deprecated and will be removed in a future version.\n",
            "Instructions for updating:\n",
            "Apply a constraint manually following the optimizer update step.\n"
          ],
          "name": "stderr"
        },
        {
          "output_type": "stream",
          "text": [
            "Train on 15000 samples, validate on 10000 samples\n",
            "Epoch 1/40\n",
            "14336/15000 [===========================>..] - ETA: 0s - loss: 0.6917 - acc: 0.5863Epoch 1/40\n",
            "15000/15000 [==============================] - 1s 53us/sample - loss: 0.6916 - acc: 0.5929 - val_loss: 0.6893 - val_acc: 0.7268\n",
            "Epoch 2/40\n",
            "14336/15000 [===========================>..] - ETA: 0s - loss: 0.6849 - acc: 0.7254Epoch 1/40\n",
            "15000/15000 [==============================] - 1s 44us/sample - loss: 0.6845 - acc: 0.7271 - val_loss: 0.6790 - val_acc: 0.7411\n",
            "Epoch 3/40\n",
            "14336/15000 [===========================>..] - ETA: 0s - loss: 0.6693 - acc: 0.7547Epoch 1/40\n",
            "15000/15000 [==============================] - 1s 45us/sample - loss: 0.6687 - acc: 0.7553 - val_loss: 0.6594 - val_acc: 0.7514\n",
            "Epoch 4/40\n",
            "14336/15000 [===========================>..] - ETA: 0s - loss: 0.6427 - acc: 0.7704Epoch 1/40\n",
            "15000/15000 [==============================] - 1s 47us/sample - loss: 0.6421 - acc: 0.7695 - val_loss: 0.6295 - val_acc: 0.7565\n",
            "Epoch 5/40\n",
            "14336/15000 [===========================>..] - ETA: 0s - loss: 0.6058 - acc: 0.7946Epoch 1/40\n",
            "15000/15000 [==============================] - 1s 48us/sample - loss: 0.6045 - acc: 0.7949 - val_loss: 0.5911 - val_acc: 0.7861\n",
            "Epoch 6/40\n",
            "13824/15000 [==========================>...] - ETA: 0s - loss: 0.5616 - acc: 0.8144Epoch 1/40\n",
            "15000/15000 [==============================] - 1s 49us/sample - loss: 0.5592 - acc: 0.8147 - val_loss: 0.5485 - val_acc: 0.8093\n",
            "Epoch 7/40\n",
            "14336/15000 [===========================>..] - ETA: 0s - loss: 0.5114 - acc: 0.8346Epoch 1/40\n",
            "15000/15000 [==============================] - 1s 48us/sample - loss: 0.5105 - acc: 0.8345 - val_loss: 0.5038 - val_acc: 0.8238\n",
            "Epoch 8/40\n",
            "14336/15000 [===========================>..] - ETA: 0s - loss: 0.4648 - acc: 0.8515Epoch 1/40\n",
            "15000/15000 [==============================] - 1s 49us/sample - loss: 0.4634 - acc: 0.8521 - val_loss: 0.4638 - val_acc: 0.8376\n",
            "Epoch 9/40\n",
            "14336/15000 [===========================>..] - ETA: 0s - loss: 0.4211 - acc: 0.8654Epoch 1/40\n",
            "15000/15000 [==============================] - 1s 48us/sample - loss: 0.4208 - acc: 0.8663 - val_loss: 0.4288 - val_acc: 0.8478\n",
            "Epoch 10/40\n",
            "14336/15000 [===========================>..] - ETA: 0s - loss: 0.3849 - acc: 0.8770Epoch 1/40\n",
            "15000/15000 [==============================] - 1s 48us/sample - loss: 0.3837 - acc: 0.8774 - val_loss: 0.4003 - val_acc: 0.8531\n",
            "Epoch 11/40\n",
            "14336/15000 [===========================>..] - ETA: 0s - loss: 0.3534 - acc: 0.8850Epoch 1/40\n",
            "15000/15000 [==============================] - 1s 47us/sample - loss: 0.3525 - acc: 0.8852 - val_loss: 0.3771 - val_acc: 0.8622\n",
            "Epoch 12/40\n",
            "13824/15000 [==========================>...] - ETA: 0s - loss: 0.3264 - acc: 0.8924Epoch 1/40\n",
            "15000/15000 [==============================] - 1s 49us/sample - loss: 0.3263 - acc: 0.8922 - val_loss: 0.3590 - val_acc: 0.8645\n",
            "Epoch 13/40\n",
            "14336/15000 [===========================>..] - ETA: 0s - loss: 0.3038 - acc: 0.8992Epoch 1/40\n",
            "15000/15000 [==============================] - 1s 48us/sample - loss: 0.3048 - acc: 0.8983 - val_loss: 0.3433 - val_acc: 0.8704\n",
            "Epoch 14/40\n",
            "13824/15000 [==========================>...] - ETA: 0s - loss: 0.2850 - acc: 0.9042Epoch 1/40\n",
            "15000/15000 [==============================] - 1s 49us/sample - loss: 0.2853 - acc: 0.9036 - val_loss: 0.3317 - val_acc: 0.8736\n",
            "Epoch 15/40\n",
            "14336/15000 [===========================>..] - ETA: 0s - loss: 0.2698 - acc: 0.9076Epoch 1/40\n",
            "15000/15000 [==============================] - 1s 48us/sample - loss: 0.2689 - acc: 0.9076 - val_loss: 0.3223 - val_acc: 0.8746\n",
            "Epoch 16/40\n",
            "14336/15000 [===========================>..] - ETA: 0s - loss: 0.2545 - acc: 0.9132Epoch 1/40\n",
            "15000/15000 [==============================] - 1s 48us/sample - loss: 0.2542 - acc: 0.9133 - val_loss: 0.3143 - val_acc: 0.8753\n",
            "Epoch 17/40\n",
            "14336/15000 [===========================>..] - ETA: 0s - loss: 0.2411 - acc: 0.9169Epoch 1/40\n",
            "15000/15000 [==============================] - 1s 47us/sample - loss: 0.2404 - acc: 0.9174 - val_loss: 0.3075 - val_acc: 0.8785\n",
            "Epoch 18/40\n",
            "14336/15000 [===========================>..] - ETA: 0s - loss: 0.2291 - acc: 0.9216Epoch 1/40\n",
            "15000/15000 [==============================] - 1s 49us/sample - loss: 0.2284 - acc: 0.9220 - val_loss: 0.3021 - val_acc: 0.8812\n",
            "Epoch 19/40\n",
            "13824/15000 [==========================>...] - ETA: 0s - loss: 0.2180 - acc: 0.9239Epoch 1/40\n",
            "15000/15000 [==============================] - 1s 48us/sample - loss: 0.2174 - acc: 0.9243 - val_loss: 0.2972 - val_acc: 0.8819\n",
            "Epoch 20/40\n",
            "14336/15000 [===========================>..] - ETA: 0s - loss: 0.2092 - acc: 0.9277Epoch 1/40\n",
            "15000/15000 [==============================] - 1s 48us/sample - loss: 0.2075 - acc: 0.9288 - val_loss: 0.2939 - val_acc: 0.8827\n",
            "Epoch 21/40\n",
            "14336/15000 [===========================>..] - ETA: 0s - loss: 0.1969 - acc: 0.9348Epoch 1/40\n",
            "15000/15000 [==============================] - 1s 47us/sample - loss: 0.1973 - acc: 0.9345 - val_loss: 0.2911 - val_acc: 0.8822\n",
            "Epoch 22/40\n",
            "13824/15000 [==========================>...] - ETA: 0s - loss: 0.1899 - acc: 0.9366Epoch 1/40\n",
            "15000/15000 [==============================] - 1s 49us/sample - loss: 0.1889 - acc: 0.9376 - val_loss: 0.2891 - val_acc: 0.8843\n",
            "Epoch 23/40\n",
            "13824/15000 [==========================>...] - ETA: 0s - loss: 0.1798 - acc: 0.9426Epoch 1/40\n",
            "15000/15000 [==============================] - 1s 48us/sample - loss: 0.1803 - acc: 0.9419 - val_loss: 0.2882 - val_acc: 0.8837\n",
            "Epoch 24/40\n",
            "14336/15000 [===========================>..] - ETA: 0s - loss: 0.1735 - acc: 0.9447Epoch 1/40\n",
            "15000/15000 [==============================] - 1s 48us/sample - loss: 0.1729 - acc: 0.9449 - val_loss: 0.2865 - val_acc: 0.8845\n",
            "Epoch 25/40\n",
            "13824/15000 [==========================>...] - ETA: 0s - loss: 0.1646 - acc: 0.9481Epoch 1/40\n",
            "15000/15000 [==============================] - 1s 49us/sample - loss: 0.1654 - acc: 0.9478 - val_loss: 0.2855 - val_acc: 0.8845\n",
            "Epoch 26/40\n",
            "13824/15000 [==========================>...] - ETA: 0s - loss: 0.1583 - acc: 0.9501Epoch 1/40\n",
            "15000/15000 [==============================] - 1s 48us/sample - loss: 0.1586 - acc: 0.9503 - val_loss: 0.2863 - val_acc: 0.8839\n",
            "Epoch 27/40\n",
            "13824/15000 [==========================>...] - ETA: 0s - loss: 0.1530 - acc: 0.9531Epoch 1/40\n",
            "15000/15000 [==============================] - 1s 50us/sample - loss: 0.1522 - acc: 0.9530 - val_loss: 0.2859 - val_acc: 0.8845\n",
            "Epoch 28/40\n",
            "14848/15000 [============================>.] - ETA: 0s - loss: 0.1458 - acc: 0.9554Epoch 1/40\n",
            "15000/15000 [==============================] - 1s 50us/sample - loss: 0.1462 - acc: 0.9553 - val_loss: 0.2863 - val_acc: 0.8850\n",
            "Epoch 29/40\n",
            "13824/15000 [==========================>...] - ETA: 0s - loss: 0.1405 - acc: 0.9585Epoch 1/40\n",
            "15000/15000 [==============================] - 1s 49us/sample - loss: 0.1408 - acc: 0.9583 - val_loss: 0.2885 - val_acc: 0.8831\n",
            "Epoch 30/40\n",
            "14336/15000 [===========================>..] - ETA: 0s - loss: 0.1353 - acc: 0.9600Epoch 1/40\n",
            "15000/15000 [==============================] - 1s 49us/sample - loss: 0.1352 - acc: 0.9598 - val_loss: 0.2878 - val_acc: 0.8856\n",
            "Epoch 31/40\n",
            "14336/15000 [===========================>..] - ETA: 0s - loss: 0.1294 - acc: 0.9625Epoch 1/40\n",
            "15000/15000 [==============================] - 1s 48us/sample - loss: 0.1296 - acc: 0.9623 - val_loss: 0.2892 - val_acc: 0.8867\n",
            "Epoch 32/40\n",
            "14336/15000 [===========================>..] - ETA: 0s - loss: 0.1256 - acc: 0.9651Epoch 1/40\n",
            "15000/15000 [==============================] - 1s 48us/sample - loss: 0.1245 - acc: 0.9655 - val_loss: 0.2908 - val_acc: 0.8856\n",
            "Epoch 33/40\n",
            "13824/15000 [==========================>...] - ETA: 0s - loss: 0.1198 - acc: 0.9670Epoch 1/40\n",
            "15000/15000 [==============================] - 1s 49us/sample - loss: 0.1196 - acc: 0.9665 - val_loss: 0.2933 - val_acc: 0.8844\n",
            "Epoch 34/40\n",
            "14336/15000 [===========================>..] - ETA: 0s - loss: 0.1145 - acc: 0.9677Epoch 1/40\n",
            "15000/15000 [==============================] - 1s 48us/sample - loss: 0.1153 - acc: 0.9678 - val_loss: 0.2952 - val_acc: 0.8849\n",
            "Epoch 35/40\n",
            "13824/15000 [==========================>...] - ETA: 0s - loss: 0.1126 - acc: 0.9681Epoch 1/40\n",
            "15000/15000 [==============================] - 1s 48us/sample - loss: 0.1111 - acc: 0.9691 - val_loss: 0.2984 - val_acc: 0.8842\n",
            "Epoch 36/40\n",
            "13824/15000 [==========================>...] - ETA: 0s - loss: 0.1070 - acc: 0.9717Epoch 1/40\n",
            "15000/15000 [==============================] - 1s 48us/sample - loss: 0.1069 - acc: 0.9714 - val_loss: 0.3001 - val_acc: 0.8842\n",
            "Epoch 37/40\n",
            "14336/15000 [===========================>..] - ETA: 0s - loss: 0.1029 - acc: 0.9722Epoch 1/40\n",
            "15000/15000 [==============================] - 1s 48us/sample - loss: 0.1027 - acc: 0.9721 - val_loss: 0.3026 - val_acc: 0.8838\n",
            "Epoch 38/40\n",
            "14336/15000 [===========================>..] - ETA: 0s - loss: 0.0988 - acc: 0.9736Epoch 1/40\n",
            "15000/15000 [==============================] - 1s 48us/sample - loss: 0.0988 - acc: 0.9737 - val_loss: 0.3063 - val_acc: 0.8828\n",
            "Epoch 39/40\n",
            "13824/15000 [==========================>...] - ETA: 0s - loss: 0.0957 - acc: 0.9746Epoch 1/40\n",
            "15000/15000 [==============================] - 1s 48us/sample - loss: 0.0957 - acc: 0.9749 - val_loss: 0.3099 - val_acc: 0.8812\n",
            "Epoch 40/40\n",
            "14336/15000 [===========================>..] - ETA: 0s - loss: 0.0910 - acc: 0.9775Epoch 1/40\n",
            "15000/15000 [==============================] - 1s 48us/sample - loss: 0.0917 - acc: 0.9770 - val_loss: 0.3121 - val_acc: 0.8829\n"
          ],
          "name": "stdout"
        }
      ]
    },
    {
      "cell_type": "markdown",
      "metadata": {
        "id": "MTl_for3s1So",
        "colab_type": "text"
      },
      "source": [
        "# Evaluate the model #\n",
        "And let's see how the model performs. Two values will be returned. Loss (a number which represents our error, lower values are better), and accuracy."
      ]
    },
    {
      "cell_type": "code",
      "metadata": {
        "id": "iXFUSgmisPY5",
        "colab_type": "code",
        "colab": {
          "base_uri": "https://localhost:8080/",
          "height": 51
        },
        "outputId": "cc9e926b-bcf4-4dfd-9072-2ac97cf35ca6"
      },
      "source": [
        "results = model.evaluate(test_data, test_labels)\n",
        "\n",
        "print(results)"
      ],
      "execution_count": 18,
      "outputs": [
        {
          "output_type": "stream",
          "text": [
            "25000/25000 [==============================] - 1s 38us/sample - loss: 0.3329 - acc: 0.8712\n",
            "[0.33285835525512697, 0.87116]\n"
          ],
          "name": "stdout"
        }
      ]
    },
    {
      "cell_type": "markdown",
      "metadata": {
        "id": "V2UraN1FtLWV",
        "colab_type": "text"
      },
      "source": [
        "## Create a graph of accuracy and loss over time ##\n",
        "**model.fit()** returns a History object that contains a dictionary with everything that happened during training:"
      ]
    },
    {
      "cell_type": "code",
      "metadata": {
        "id": "XJGn-ie4s6PK",
        "colab_type": "code",
        "colab": {
          "base_uri": "https://localhost:8080/",
          "height": 34
        },
        "outputId": "225f20c7-ba24-4abf-8e81-b19f440cab85"
      },
      "source": [
        "history_dict = history.history\n",
        "history_dict.keys()"
      ],
      "execution_count": 19,
      "outputs": [
        {
          "output_type": "execute_result",
          "data": {
            "text/plain": [
              "dict_keys(['loss', 'acc', 'val_loss', 'val_acc'])"
            ]
          },
          "metadata": {
            "tags": []
          },
          "execution_count": 19
        }
      ]
    },
    {
      "cell_type": "markdown",
      "metadata": {
        "id": "Ytk74QHZtUwQ",
        "colab_type": "text"
      },
      "source": [
        "There are four entries: one for each monitored metric during training and validation. We can use these to plot the training and validation loss for comparison, as well as the training and validation accuracy:"
      ]
    },
    {
      "cell_type": "code",
      "metadata": {
        "id": "tMuW1-g_tRIU",
        "colab_type": "code",
        "colab": {
          "base_uri": "https://localhost:8080/",
          "height": 295
        },
        "outputId": "1ac8e25b-cc5b-4e58-efba-12d73a791ae4"
      },
      "source": [
        "import matplotlib.pyplot as plt\n",
        "\n",
        "acc = history_dict['acc']\n",
        "val_acc = history_dict['val_acc']\n",
        "loss = history_dict['loss']\n",
        "val_loss = history_dict['val_loss']\n",
        "\n",
        "epochs = range(1, len(acc) + 1)\n",
        "\n",
        "# \"bo\" is for \"blue dot\"\n",
        "plt.plot(epochs, loss, 'bo', label='Training loss')\n",
        "# b is for \"solid blue line\"\n",
        "plt.plot(epochs, val_loss, 'b', label='Validation loss')\n",
        "plt.title('Training and validation loss')\n",
        "plt.xlabel('Epochs')\n",
        "plt.ylabel('Loss')\n",
        "plt.legend()\n",
        "\n",
        "plt.show()"
      ],
      "execution_count": 20,
      "outputs": [
        {
          "output_type": "display_data",
          "data": {
            "image/png": "[encoded data removed]",
            "text/plain": [
              "<Figure size 432x288 with 1 Axes>"
            ]
          },
          "metadata": {
            "tags": []
          }
        }
      ]
    },
    {
      "cell_type": "code",
      "metadata": {
        "id": "c-0MvddnthXh",
        "colab_type": "code",
        "colab": {
          "base_uri": "https://localhost:8080/",
          "height": 295
        },
        "outputId": "0e4965b2-27ec-4cd5-af2f-a008df36621e"
      },
      "source": [
        "plt.clf()   # clear figure\n",
        "\n",
        "plt.plot(epochs, acc, 'bo', label='Training acc')\n",
        "plt.plot(epochs, val_acc, 'b', label='Validation acc')\n",
        "plt.title('Training and validation accuracy')\n",
        "plt.xlabel('Epochs')\n",
        "plt.ylabel('Accuracy')\n",
        "plt.legend()\n",
        "\n",
        "plt.show()"
      ],
      "execution_count": 21,
      "outputs": [
        {
          "output_type": "display_data",
          "data": {
            "image/png": "[encoded data removed]",
            "text/plain": [
              "<Figure size 432x288 with 1 Axes>"
            ]
          },
          "metadata": {
            "tags": []
          }
        }
      ]
    },
    {
      "cell_type": "markdown",
      "metadata": {
        "id": "jXuMkxFOtx-4",
        "colab_type": "text"
      },
      "source": [
        "In this plot, the dots represent the training loss and accuracy, and the solid lines are the validation loss and accuracy.\n",
        "<br></br>\n",
        "Notice the training loss decreases with each epoch and the training accuracy increases with each epoch. This is expected when using a gradient descent optimization—it should minimize the desired quantity on every iteration.\n",
        "<br></br>\n",
        "This isn't the case for the validation loss and accuracy—they seem to peak after about twenty epochs. This is an example of overfitting: the model performs better on the training data than it does on data it has never seen before. After this point, the model over-optimizes and learns representations specific to the training data that do not generalize to test data.\n",
        "<br></br>\n",
        "For this particular case, we could prevent overfitting by simply stopping the training after twenty or so epochs. Later, you'll see how to do this automatically with a callback."
      ]
    },
    {
      "cell_type": "markdown",
      "metadata": {
        "id": "ToGfxy7vt7VT",
        "colab_type": "text"
      },
      "source": [
        "# Reference #\n",
        "\n",
        "[Source](https://www.tensorflow.org/tutorials/keras/basic_text_classification)\n",
        "\n",
        "Prepared by: [Wong Jian Zhi](https://github.com/jianzhiw)"
      ]
    }
  ]
}