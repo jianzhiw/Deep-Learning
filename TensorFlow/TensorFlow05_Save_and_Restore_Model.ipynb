{
  "nbformat": 4,
  "nbformat_minor": 0,
  "metadata": {
    "colab": {
      "name": "TensorFlow05 - Save and Restore Model.ipynb",
      "version": "0.3.2",
      "provenance": [],
      "collapsed_sections": [],
      "toc_visible": true,
      "include_colab_link": true
    },
    "kernelspec": {
      "name": "python3",
      "display_name": "Python 3"
    },
    "accelerator": "GPU"
  },
  "cells": [
    {
      "cell_type": "markdown",
      "metadata": {
        "id": "view-in-github",
        "colab_type": "text"
      },
      "source": [
        "<a href=\"https://colab.research.google.com/github/jianzhiw/Deep-Learning/blob/master/TensorFlow/TensorFlow05_Save_and_Restore_Model.ipynb\" target=\"_parent\"><img src=\"https://colab.research.google.com/assets/colab-badge.svg\" alt=\"Open In Colab\"/></a>"
      ]
    },
    {
      "cell_type": "code",
      "metadata": {
        "id": "JSLs6MrfxnJD",
        "colab_type": "code",
        "colab": {}
      },
      "source": [
        "!pip install -q h5py pyyaml\n",
        "!pip install -q tf_nightly"
      ],
      "execution_count": 0,
      "outputs": []
    },
    {
      "cell_type": "code",
      "metadata": {
        "id": "cq1dMFdqyLAy",
        "colab_type": "code",
        "outputId": "5b6b203b-6bcf-4c0b-94c8-765f5081dd95",
        "colab": {
          "base_uri": "https://localhost:8080/",
          "height": 272
        }
      },
      "source": [
        "from __future__ import absolute_import, division, print_function, unicode_literals\n",
        "\n",
        "import os\n",
        "\n",
        "import tensorflow as tf\n",
        "from tensorflow import keras\n",
        "\n",
        "tf.__version__"
      ],
      "execution_count": 0,
      "outputs": [
        {
          "output_type": "stream",
          "text": [
            "WARNING: Logging before flag parsing goes to stderr.\n",
            "W0818 03:34:08.305088 140051597113216 __init__.py:689] \n",
            "\n",
            "  TensorFlow's `tf-nightly` package will soon be updated to TensorFlow 2.0.\n",
            "\n",
            "  Please upgrade your code to TensorFlow 2.0:\n",
            "    * https://www.tensorflow.org/beta/guide/migration_guide\n",
            "\n",
            "  Or install the latest stable TensorFlow 1.X release:\n",
            "    * `pip install -U \"tensorflow==1.*\"`\n",
            "\n",
            "  Otherwise your code may be broken by the change.\n",
            "\n",
            "  \n"
          ],
          "name": "stderr"
        },
        {
          "output_type": "execute_result",
          "data": {
            "text/plain": [
              "'1.15.0-dev20190817'"
            ]
          },
          "metadata": {
            "tags": []
          },
          "execution_count": 2
        }
      ]
    },
    {
      "cell_type": "code",
      "metadata": {
        "id": "W8dPmbl0ygnA",
        "colab_type": "code",
        "outputId": "6387366a-3a23-4ab8-d23f-f08ab05ea201",
        "colab": {
          "base_uri": "https://localhost:8080/",
          "height": 51
        }
      },
      "source": [
        "(train_images, train_labels), (test_images, test_labels) = tf.keras.datasets.mnist.load_data()\n",
        "\n",
        "train_labels = train_labels[:1000]\n",
        "test_labels = test_labels[:1000]\n",
        "\n",
        "train_images = train_images[:1000].reshape(-1, 28 * 28) / 255.0\n",
        "test_images = test_images[:1000].reshape(-1, 28 * 28) / 255.0"
      ],
      "execution_count": 0,
      "outputs": [
        {
          "output_type": "stream",
          "text": [
            "Downloading data from https://storage.googleapis.com/tensorflow/tf-keras-datasets/mnist.npz\n",
            "11493376/11490434 [==============================] - 0s 0us/step\n"
          ],
          "name": "stdout"
        }
      ]
    },
    {
      "cell_type": "markdown",
      "metadata": {
        "id": "1ZNp78ydyqVi",
        "colab_type": "text"
      },
      "source": [
        "# Define a model #\n",
        "Let's build a simple model we'll use to demonstrate saving and loading weights."
      ]
    },
    {
      "cell_type": "code",
      "metadata": {
        "id": "-wgaY3cRykeE",
        "colab_type": "code",
        "outputId": "efaee05b-23ec-4f4e-d847-a3b19982bec9",
        "colab": {
          "base_uri": "https://localhost:8080/",
          "height": 326
        }
      },
      "source": [
        "# Returns a short sequential model\n",
        "def create_model():\n",
        "  model = tf.keras.models.Sequential([\n",
        "    keras.layers.Dense(512, activation=tf.keras.activations.relu, input_shape=(784,)),\n",
        "    keras.layers.Dropout(0.2),\n",
        "    keras.layers.Dense(10, activation=tf.keras.activations.softmax)\n",
        "  ])\n",
        "\n",
        "  model.compile(optimizer=tf.keras.optimizers.Adam(),\n",
        "                loss=tf.keras.losses.sparse_categorical_crossentropy,\n",
        "                metrics=['accuracy'])\n",
        "\n",
        "  return model\n",
        "\n",
        "# Create a basic model instance\n",
        "model = create_model()\n",
        "model.summary()"
      ],
      "execution_count": 0,
      "outputs": [
        {
          "output_type": "stream",
          "text": [
            "W0818 03:35:35.668795 140051597113216 deprecation.py:506] From /usr/local/lib/python3.6/dist-packages/tensorflow_core/python/ops/resource_variable_ops.py:1630: calling BaseResourceVariable.__init__ (from tensorflow.python.ops.resource_variable_ops) with constraint is deprecated and will be removed in a future version.\n",
            "Instructions for updating:\n",
            "If using Keras pass *_constraint arguments to layers.\n"
          ],
          "name": "stderr"
        },
        {
          "output_type": "stream",
          "text": [
            "Model: \"sequential\"\n",
            "_________________________________________________________________\n",
            "Layer (type)                 Output Shape              Param #   \n",
            "=================================================================\n",
            "dense (Dense)                (None, 512)               401920    \n",
            "_________________________________________________________________\n",
            "dropout (Dropout)            (None, 512)               0         \n",
            "_________________________________________________________________\n",
            "dense_1 (Dense)              (None, 10)                5130      \n",
            "=================================================================\n",
            "Total params: 407,050\n",
            "Trainable params: 407,050\n",
            "Non-trainable params: 0\n",
            "_________________________________________________________________\n"
          ],
          "name": "stdout"
        }
      ]
    },
    {
      "cell_type": "markdown",
      "metadata": {
        "id": "-hszweA2y48y",
        "colab_type": "text"
      },
      "source": [
        "# Save checkpoints during training #\n",
        "The primary use case is to automatically save checkpoints during and at the end of training. This way you can use a trained model without having to retrain it, or pick-up training where you left of—in case the training process was interrupted.\n",
        "<br></br>\n",
        "***tf.keras.callbacks.ModelCheckpoint*** is a callback that performs this task. The callback takes a couple of arguments to configure checkpointing.\n",
        "<br></br>\n",
        "## Checkpoint callback usage ##\n",
        "Train the model and pass it the ModelCheckpoint callback:"
      ]
    },
    {
      "cell_type": "code",
      "metadata": {
        "id": "y_iPr_Rtyx1F",
        "colab_type": "code",
        "outputId": "d37a5154-068a-4f5d-868b-79dac3390e6c",
        "colab": {
          "base_uri": "https://localhost:8080/",
          "height": 751
        }
      },
      "source": [
        "checkpoint_path = \"training_1/cp.ckpt\"\n",
        "checkpoint_dir = os.path.dirname(checkpoint_path)\n",
        "\n",
        "# Create checkpoint callback\n",
        "cp_callback = tf.keras.callbacks.ModelCheckpoint(checkpoint_path,\n",
        "                                                 save_weights_only=True,\n",
        "                                                 verbose=1)\n",
        "\n",
        "model = create_model()\n",
        "\n",
        "model.fit(train_images, train_labels,  epochs = 10,\n",
        "          validation_data = (test_images,test_labels),\n",
        "          callbacks = [cp_callback])  # pass callback to training\n",
        "\n",
        "# This may generate warnings related to saving the state of the optimizer.\n",
        "# These warnings (and similar warnings throughout this notebook)\n",
        "# are in place to discourage outdated usage, and can be ignored."
      ],
      "execution_count": 0,
      "outputs": [
        {
          "output_type": "stream",
          "text": [
            "Train on 1000 samples, validate on 1000 samples\n",
            "Epoch 1/10\n",
            " 960/1000 [===========================>..] - ETA: 0s - loss: 1.1627 - acc: 0.6552\n",
            "Epoch 00001: saving model to training_1/cp.ckpt\n",
            "1000/1000 [==============================] - 0s 393us/sample - loss: 1.1406 - acc: 0.6600 - val_loss: 0.7428 - val_acc: 0.7660\n",
            "Epoch 2/10\n",
            " 736/1000 [=====================>........] - ETA: 0s - loss: 0.4207 - acc: 0.8832\n",
            "Epoch 00002: saving model to training_1/cp.ckpt\n",
            "1000/1000 [==============================] - 0s 240us/sample - loss: 0.4185 - acc: 0.8830 - val_loss: 0.5388 - val_acc: 0.8230\n",
            "Epoch 3/10\n",
            " 704/1000 [====================>.........] - ETA: 0s - loss: 0.3029 - acc: 0.9119\n",
            "Epoch 00003: saving model to training_1/cp.ckpt\n",
            "1000/1000 [==============================] - 0s 244us/sample - loss: 0.2892 - acc: 0.9190 - val_loss: 0.4796 - val_acc: 0.8470\n",
            "Epoch 4/10\n",
            " 704/1000 [====================>.........] - ETA: 0s - loss: 0.2134 - acc: 0.9474\n",
            "Epoch 00004: saving model to training_1/cp.ckpt\n",
            "1000/1000 [==============================] - 0s 242us/sample - loss: 0.2020 - acc: 0.9490 - val_loss: 0.4422 - val_acc: 0.8530\n",
            "Epoch 5/10\n",
            " 736/1000 [=====================>........] - ETA: 0s - loss: 0.1534 - acc: 0.9701\n",
            "Epoch 00005: saving model to training_1/cp.ckpt\n",
            "1000/1000 [==============================] - 0s 238us/sample - loss: 0.1453 - acc: 0.9700 - val_loss: 0.4513 - val_acc: 0.8470\n",
            "Epoch 6/10\n",
            " 800/1000 [=======================>......] - ETA: 0s - loss: 0.1220 - acc: 0.9700\n",
            "Epoch 00006: saving model to training_1/cp.ckpt\n",
            "1000/1000 [==============================] - 0s 240us/sample - loss: 0.1185 - acc: 0.9710 - val_loss: 0.4139 - val_acc: 0.8610\n",
            "Epoch 7/10\n",
            " 736/1000 [=====================>........] - ETA: 0s - loss: 0.0893 - acc: 0.9851\n",
            "Epoch 00007: saving model to training_1/cp.ckpt\n",
            "1000/1000 [==============================] - 0s 236us/sample - loss: 0.0836 - acc: 0.9890 - val_loss: 0.4156 - val_acc: 0.8650\n",
            "Epoch 8/10\n",
            " 768/1000 [======================>.......] - ETA: 0s - loss: 0.0620 - acc: 0.9948\n",
            "Epoch 00008: saving model to training_1/cp.ckpt\n",
            "1000/1000 [==============================] - 0s 232us/sample - loss: 0.0636 - acc: 0.9940 - val_loss: 0.3956 - val_acc: 0.8740\n",
            "Epoch 9/10\n",
            " 736/1000 [=====================>........] - ETA: 0s - loss: 0.0518 - acc: 0.9986\n",
            "Epoch 00009: saving model to training_1/cp.ckpt\n",
            "1000/1000 [==============================] - 0s 249us/sample - loss: 0.0521 - acc: 0.9980 - val_loss: 0.4463 - val_acc: 0.8530\n",
            "Epoch 10/10\n",
            " 704/1000 [====================>.........] - ETA: 0s - loss: 0.0365 - acc: 1.0000\n",
            "Epoch 00010: saving model to training_1/cp.ckpt\n",
            "1000/1000 [==============================] - 0s 248us/sample - loss: 0.0364 - acc: 1.0000 - val_loss: 0.4085 - val_acc: 0.8690\n"
          ],
          "name": "stdout"
        },
        {
          "output_type": "execute_result",
          "data": {
            "text/plain": [
              "<tensorflow.python.keras.callbacks.History at 0x7f6010c7f400>"
            ]
          },
          "metadata": {
            "tags": []
          },
          "execution_count": 6
        }
      ]
    },
    {
      "cell_type": "code",
      "metadata": {
        "id": "jMvNfUhwzO_4",
        "colab_type": "code",
        "outputId": "bd174e52-8ba0-435d-820a-1b4fb74d9f58",
        "colab": {
          "base_uri": "https://localhost:8080/",
          "height": 51
        }
      },
      "source": [
        "!ls {checkpoint_dir}"
      ],
      "execution_count": 0,
      "outputs": [
        {
          "output_type": "stream",
          "text": [
            "checkpoint\t\t     cp.ckpt.data-00001-of-00002\n",
            "cp.ckpt.data-00000-of-00002  cp.ckpt.index\n"
          ],
          "name": "stdout"
        }
      ]
    },
    {
      "cell_type": "markdown",
      "metadata": {
        "id": "oSPhAX1L0nLq",
        "colab_type": "text"
      },
      "source": [
        "Create a new, untrained model. When restoring a model from only weights, you must have a model with the same architecture as the original model. Since it's the same model architecture, we can share weights despite that it's a different instance of the model.\n",
        "<br></br>\n",
        "Now rebuild a fresh, untrained model, and evaluate it on the test set. An untrained model will perform at chance levels (~10% accuracy):"
      ]
    },
    {
      "cell_type": "code",
      "metadata": {
        "id": "bBPqz9HF0iRz",
        "colab_type": "code",
        "outputId": "7983abc3-3038-4ec0-cd72-6fb01c2896f9",
        "colab": {
          "base_uri": "https://localhost:8080/",
          "height": 51
        }
      },
      "source": [
        "model = create_model()\n",
        "\n",
        "loss, acc = model.evaluate(test_images, test_labels)\n",
        "print(\"Untrained model, accuracy: {:5.2f}%\".format(100*acc))"
      ],
      "execution_count": 0,
      "outputs": [
        {
          "output_type": "stream",
          "text": [
            "1000/1000 [==============================] - 0s 100us/sample - loss: 2.3226 - acc: 0.1210\n",
            "Untrained model, accuracy: 12.10%\n"
          ],
          "name": "stdout"
        }
      ]
    },
    {
      "cell_type": "code",
      "metadata": {
        "id": "gP7lJv1y0sdE",
        "colab_type": "code",
        "outputId": "8215a746-c20a-475b-966b-98c8fe5b6d3e",
        "colab": {
          "base_uri": "https://localhost:8080/",
          "height": 51
        }
      },
      "source": [
        "model.load_weights(checkpoint_path)\n",
        "loss, acc = model.evaluate(test_images, test_labels)\n",
        "print(\"Restored model, accuracy: {:5.2f}%\".format(100*acc))"
      ],
      "execution_count": 0,
      "outputs": [
        {
          "output_type": "stream",
          "text": [
            "1000/1000 [==============================] - 0s 72us/sample - loss: 0.4085 - acc: 0.8690\n",
            "Restored model, accuracy: 86.90%\n"
          ],
          "name": "stdout"
        }
      ]
    },
    {
      "cell_type": "markdown",
      "metadata": {
        "id": "-AcRGGO40zw6",
        "colab_type": "text"
      },
      "source": [
        "# Checkpoint callback options #\n",
        "The callback provides several options to give the resulting checkpoints unique names, and adjust the checkpointing frequency.\n",
        "\n",
        "Train a new model, and save uniquely named checkpoints once every 5-epochs:"
      ]
    },
    {
      "cell_type": "code",
      "metadata": {
        "id": "8GDlWoYp0xC3",
        "colab_type": "code",
        "outputId": "19d619b4-d8c4-4f72-8259-d9fd4a7a0c87",
        "colab": {
          "base_uri": "https://localhost:8080/",
          "height": 411
        }
      },
      "source": [
        "# include the epoch in the file name. (uses `str.format`)\n",
        "checkpoint_path = \"training_2/cp-{epoch:04d}.ckpt\"\n",
        "checkpoint_dir = os.path.dirname(checkpoint_path)\n",
        "\n",
        "cp_callback = tf.keras.callbacks.ModelCheckpoint(\n",
        "    checkpoint_path, verbose=1, save_weights_only=True,\n",
        "    # Save weights, every 5-epochs.\n",
        "    period=5)\n",
        "\n",
        "model = create_model()\n",
        "model.save_weights(checkpoint_path.format(epoch=0))\n",
        "model.fit(train_images, train_labels,\n",
        "          epochs = 50, callbacks = [cp_callback],\n",
        "          validation_data = (test_images,test_labels),\n",
        "          verbose=0)"
      ],
      "execution_count": 0,
      "outputs": [
        {
          "output_type": "stream",
          "text": [
            "W0818 03:44:56.939801 140051597113216 callbacks.py:864] `period` argument is deprecated. Please use `save_freq` to specify the frequency in number of samples seen.\n"
          ],
          "name": "stderr"
        },
        {
          "output_type": "stream",
          "text": [
            "\n",
            "Epoch 00005: saving model to training_2/cp-0005.ckpt\n",
            "\n",
            "Epoch 00010: saving model to training_2/cp-0010.ckpt\n",
            "\n",
            "Epoch 00015: saving model to training_2/cp-0015.ckpt\n",
            "\n",
            "Epoch 00020: saving model to training_2/cp-0020.ckpt\n",
            "\n",
            "Epoch 00025: saving model to training_2/cp-0025.ckpt\n",
            "\n",
            "Epoch 00030: saving model to training_2/cp-0030.ckpt\n",
            "\n",
            "Epoch 00035: saving model to training_2/cp-0035.ckpt\n",
            "\n",
            "Epoch 00040: saving model to training_2/cp-0040.ckpt\n",
            "\n",
            "Epoch 00045: saving model to training_2/cp-0045.ckpt\n",
            "\n",
            "Epoch 00050: saving model to training_2/cp-0050.ckpt\n"
          ],
          "name": "stdout"
        },
        {
          "output_type": "execute_result",
          "data": {
            "text/plain": [
              "<tensorflow.python.keras.callbacks.History at 0x7f60119b56a0>"
            ]
          },
          "metadata": {
            "tags": []
          },
          "execution_count": 10
        }
      ]
    },
    {
      "cell_type": "code",
      "metadata": {
        "id": "uZIuea2T0_TN",
        "colab_type": "code",
        "outputId": "1a6cea17-a9ff-44cb-80df-4510280ce1ba",
        "colab": {
          "base_uri": "https://localhost:8080/",
          "height": 306
        }
      },
      "source": [
        "!ls {checkpoint_dir}"
      ],
      "execution_count": 0,
      "outputs": [
        {
          "output_type": "stream",
          "text": [
            "checkpoint\t\t\t  cp-0025.ckpt.data-00001-of-00002\n",
            "cp-0000.ckpt.data-00000-of-00002  cp-0025.ckpt.index\n",
            "cp-0000.ckpt.data-00001-of-00002  cp-0030.ckpt.data-00000-of-00002\n",
            "cp-0000.ckpt.index\t\t  cp-0030.ckpt.data-00001-of-00002\n",
            "cp-0005.ckpt.data-00000-of-00002  cp-0030.ckpt.index\n",
            "cp-0005.ckpt.data-00001-of-00002  cp-0035.ckpt.data-00000-of-00002\n",
            "cp-0005.ckpt.index\t\t  cp-0035.ckpt.data-00001-of-00002\n",
            "cp-0010.ckpt.data-00000-of-00002  cp-0035.ckpt.index\n",
            "cp-0010.ckpt.data-00001-of-00002  cp-0040.ckpt.data-00000-of-00002\n",
            "cp-0010.ckpt.index\t\t  cp-0040.ckpt.data-00001-of-00002\n",
            "cp-0015.ckpt.data-00000-of-00002  cp-0040.ckpt.index\n",
            "cp-0015.ckpt.data-00001-of-00002  cp-0045.ckpt.data-00000-of-00002\n",
            "cp-0015.ckpt.index\t\t  cp-0045.ckpt.data-00001-of-00002\n",
            "cp-0020.ckpt.data-00000-of-00002  cp-0045.ckpt.index\n",
            "cp-0020.ckpt.data-00001-of-00002  cp-0050.ckpt.data-00000-of-00002\n",
            "cp-0020.ckpt.index\t\t  cp-0050.ckpt.data-00001-of-00002\n",
            "cp-0025.ckpt.data-00000-of-00002  cp-0050.ckpt.index\n"
          ],
          "name": "stdout"
        }
      ]
    },
    {
      "cell_type": "code",
      "metadata": {
        "id": "lQe0VCRP1JLJ",
        "colab_type": "code",
        "outputId": "8116e174-0723-4a75-99f5-97152d319b5d",
        "colab": {
          "base_uri": "https://localhost:8080/",
          "height": 34
        }
      },
      "source": [
        "latest = tf.train.latest_checkpoint(checkpoint_dir)\n",
        "latest"
      ],
      "execution_count": 0,
      "outputs": [
        {
          "output_type": "execute_result",
          "data": {
            "text/plain": [
              "'training_2/cp-0050.ckpt'"
            ]
          },
          "metadata": {
            "tags": []
          },
          "execution_count": 13
        }
      ]
    },
    {
      "cell_type": "code",
      "metadata": {
        "id": "bPxSEE-O1OhG",
        "colab_type": "code",
        "outputId": "63aa0631-a118-4824-c265-6e419e830a8d",
        "colab": {
          "base_uri": "https://localhost:8080/",
          "height": 309
        }
      },
      "source": [
        "model = create_model()\n",
        "model.load_weights(latest)\n",
        "loss, acc = model.evaluate(test_images, test_labels)\n",
        "print(\"Restored model, accuracy: {:5.2f}%\".format(100*acc))"
      ],
      "execution_count": 0,
      "outputs": [
        {
          "output_type": "stream",
          "text": [
            "W0818 03:46:19.130409 140051597113216 util.py:144] Unresolved object in checkpoint: (root).optimizer.iter\n",
            "W0818 03:46:19.132050 140051597113216 util.py:144] Unresolved object in checkpoint: (root).optimizer.beta_1\n",
            "W0818 03:46:19.133179 140051597113216 util.py:144] Unresolved object in checkpoint: (root).optimizer.beta_2\n",
            "W0818 03:46:19.135023 140051597113216 util.py:144] Unresolved object in checkpoint: (root).optimizer.decay\n",
            "W0818 03:46:19.137620 140051597113216 util.py:144] Unresolved object in checkpoint: (root).optimizer.learning_rate\n",
            "W0818 03:46:19.139543 140051597113216 util.py:144] Unresolved object in checkpoint: (root).optimizer's state 'm' for (root).layer_with_weights-0.kernel\n",
            "W0818 03:46:19.141170 140051597113216 util.py:144] Unresolved object in checkpoint: (root).optimizer's state 'm' for (root).layer_with_weights-0.bias\n",
            "W0818 03:46:19.142306 140051597113216 util.py:144] Unresolved object in checkpoint: (root).optimizer's state 'm' for (root).layer_with_weights-1.kernel\n",
            "W0818 03:46:19.143225 140051597113216 util.py:144] Unresolved object in checkpoint: (root).optimizer's state 'm' for (root).layer_with_weights-1.bias\n",
            "W0818 03:46:19.144433 140051597113216 util.py:144] Unresolved object in checkpoint: (root).optimizer's state 'v' for (root).layer_with_weights-0.kernel\n",
            "W0818 03:46:19.145620 140051597113216 util.py:144] Unresolved object in checkpoint: (root).optimizer's state 'v' for (root).layer_with_weights-0.bias\n",
            "W0818 03:46:19.146327 140051597113216 util.py:144] Unresolved object in checkpoint: (root).optimizer's state 'v' for (root).layer_with_weights-1.kernel\n",
            "W0818 03:46:19.147480 140051597113216 util.py:144] Unresolved object in checkpoint: (root).optimizer's state 'v' for (root).layer_with_weights-1.bias\n",
            "W0818 03:46:19.148537 140051597113216 util.py:152] A checkpoint was restored (e.g. tf.train.Checkpoint.restore or tf.keras.Model.load_weights) but not all checkpointed values were used. See above for specific issues. Use expect_partial() on the load status object, e.g. tf.train.Checkpoint.restore(...).expect_partial(), to silence these warnings, or use assert_consumed() to make the check explicit. See https://www.tensorflow.org/alpha/guide/checkpoints#loading_mechanics for details.\n"
          ],
          "name": "stderr"
        },
        {
          "output_type": "stream",
          "text": [
            "1000/1000 [==============================] - 0s 95us/sample - loss: 0.5030 - acc: 0.8660\n",
            "Restored model, accuracy: 86.60%\n"
          ],
          "name": "stdout"
        }
      ]
    },
    {
      "cell_type": "markdown",
      "metadata": {
        "id": "fKKCzcPh1bB0",
        "colab_type": "text"
      },
      "source": [
        "# What are these files? #\n",
        "The above code stores the weights to a collection of checkpoint-formatted files that contain only the trained weights in a binary format. Checkpoints contain: **One or more shards that contain your model's weights.** An index file that indicates which weights are stored in a which shard.\n",
        "<br></br>\n",
        "If you are only training a model on a single machine, you'll have one shard with the suffix: .data-00000-of-00001"
      ]
    },
    {
      "cell_type": "markdown",
      "metadata": {
        "id": "zaKv8d4v1n42",
        "colab_type": "text"
      },
      "source": [
        "# Manually save weights #\n",
        "Above you saw how to load the weights into a model.\n",
        "<br></br>\n",
        "Manually saving the weights is just as simple, use the ***Model.save_weights*** method."
      ]
    },
    {
      "cell_type": "code",
      "metadata": {
        "id": "Ic8XmG001TU5",
        "colab_type": "code",
        "outputId": "a9adcf33-7b4e-4dd0-9086-ac575754d706",
        "colab": {
          "base_uri": "https://localhost:8080/",
          "height": 51
        }
      },
      "source": [
        "# Save the weights\n",
        "model.save_weights('./checkpoints/my_checkpoint')\n",
        "\n",
        "# Restore the weights\n",
        "model = create_model()\n",
        "model.load_weights('./checkpoints/my_checkpoint')\n",
        "\n",
        "loss,acc = model.evaluate(test_images, test_labels)\n",
        "print(\"Restored model, accuracy: {:5.2f}%\".format(100*acc))"
      ],
      "execution_count": 0,
      "outputs": [
        {
          "output_type": "stream",
          "text": [
            "1000/1000 [==============================] - 0s 95us/sample - loss: 0.5030 - acc: 0.8660\n",
            "Restored model, accuracy: 86.60%\n"
          ],
          "name": "stdout"
        }
      ]
    },
    {
      "cell_type": "markdown",
      "metadata": {
        "id": "lMxp-Uzf12HC",
        "colab_type": "text"
      },
      "source": [
        "# Save the entire model #\n",
        "The entire model can be saved to a file that contains the weight values, the model's configuration, and even the optimizer's configuration (depends on set up). This allows you to checkpoint a model and resume training later—from the exact same state—without access to the original code.\n",
        "<br></br>\n",
        "Saving a fully-functional model is very useful—you can load them in TensorFlow.js ([HDF5](https://www.hdfgroup.org/solutions/hdf5/), Saved Model) and then train and run them in web browsers, or convert them to run on mobile devices using TensorFlow Lite (HDF5, Saved Model)\n",
        "<br></br>\n",
        "## As an HDF5 file ##\n",
        "Keras provides a basic save format using the HDF5 standard. For our purposes, the saved model can be treated as a single binary blob."
      ]
    },
    {
      "cell_type": "code",
      "metadata": {
        "id": "CE_jK3KR1wKc",
        "colab_type": "code",
        "outputId": "3794c201-7652-4bea-a123-eb6aca155580",
        "colab": {
          "base_uri": "https://localhost:8080/",
          "height": 204
        }
      },
      "source": [
        "model = create_model()\n",
        "\n",
        "model.fit(train_images, train_labels, epochs=5)\n",
        "\n",
        "# Save entire model to a HDF5 file\n",
        "model.save('my_model.h5')"
      ],
      "execution_count": 0,
      "outputs": [
        {
          "output_type": "stream",
          "text": [
            "Train on 1000 samples\n",
            "Epoch 1/5\n",
            "1000/1000 [==============================] - 0s 205us/sample - loss: 1.1541 - acc: 0.6790\n",
            "Epoch 2/5\n",
            "1000/1000 [==============================] - 0s 142us/sample - loss: 0.4188 - acc: 0.8820\n",
            "Epoch 3/5\n",
            "1000/1000 [==============================] - 0s 152us/sample - loss: 0.2950 - acc: 0.9290\n",
            "Epoch 4/5\n",
            "1000/1000 [==============================] - 0s 144us/sample - loss: 0.2049 - acc: 0.9530\n",
            "Epoch 5/5\n",
            "1000/1000 [==============================] - 0s 136us/sample - loss: 0.1588 - acc: 0.9680\n"
          ],
          "name": "stdout"
        }
      ]
    },
    {
      "cell_type": "code",
      "metadata": {
        "id": "mPNrmk592LNW",
        "colab_type": "code",
        "outputId": "56180466-bf15-44e8-8a9f-21333e4e183e",
        "colab": {
          "base_uri": "https://localhost:8080/",
          "height": 377
        }
      },
      "source": [
        "# Recreate the exact same model, including weights and optimizer.\n",
        "new_model = keras.models.load_model('my_model.h5')\n",
        "new_model.summary()"
      ],
      "execution_count": 0,
      "outputs": [
        {
          "output_type": "stream",
          "text": [
            "W0818 03:50:35.178732 140051597113216 deprecation.py:506] From /usr/local/lib/python3.6/dist-packages/tensorflow_core/python/ops/init_ops.py:97: calling GlorotUniform.__init__ (from tensorflow.python.ops.init_ops) with dtype is deprecated and will be removed in a future version.\n",
            "Instructions for updating:\n",
            "Call initializer instance with the dtype argument instead of passing it to the constructor\n",
            "W0818 03:50:35.183529 140051597113216 deprecation.py:506] From /usr/local/lib/python3.6/dist-packages/tensorflow_core/python/ops/init_ops.py:97: calling Zeros.__init__ (from tensorflow.python.ops.init_ops) with dtype is deprecated and will be removed in a future version.\n",
            "Instructions for updating:\n",
            "Call initializer instance with the dtype argument instead of passing it to the constructor\n"
          ],
          "name": "stderr"
        },
        {
          "output_type": "stream",
          "text": [
            "Model: \"sequential_6\"\n",
            "_________________________________________________________________\n",
            "Layer (type)                 Output Shape              Param #   \n",
            "=================================================================\n",
            "dense_12 (Dense)             (None, 512)               401920    \n",
            "_________________________________________________________________\n",
            "dropout_6 (Dropout)          (None, 512)               0         \n",
            "_________________________________________________________________\n",
            "dense_13 (Dense)             (None, 10)                5130      \n",
            "=================================================================\n",
            "Total params: 407,050\n",
            "Trainable params: 407,050\n",
            "Non-trainable params: 0\n",
            "_________________________________________________________________\n"
          ],
          "name": "stdout"
        }
      ]
    },
    {
      "cell_type": "markdown",
      "metadata": {
        "id": "6vByGkin3eVp",
        "colab_type": "text"
      },
      "source": [
        "This technique saves everything:\n",
        "* The weight values\n",
        "* The model's configuration(architecture)\n",
        "* The optimizer configuration\n",
        "<br></br>\n",
        "\n",
        "Keras saves models by inspecting the architecture. Currently, it is not able to save TensorFlow optimizers (from ***tf.train***). When using those you will need to re-compile the model after loading, and you will lose the state of the optimizer."
      ]
    },
    {
      "cell_type": "markdown",
      "metadata": {
        "id": "L06Ivl8z35QH",
        "colab_type": "text"
      },
      "source": [
        "# Create a saved model #"
      ]
    },
    {
      "cell_type": "code",
      "metadata": {
        "id": "VtL6bGre2R4C",
        "colab_type": "code",
        "outputId": "cafb00a6-40b2-4529-87ec-775e0e42af6e",
        "colab": {
          "base_uri": "https://localhost:8080/",
          "height": 221
        }
      },
      "source": [
        "model = create_model()\n",
        "model.fit(train_images, train_labels, epochs=5)"
      ],
      "execution_count": 0,
      "outputs": [
        {
          "output_type": "stream",
          "text": [
            "Train on 1000 samples\n",
            "Epoch 1/5\n",
            "1000/1000 [==============================] - 0s 216us/sample - loss: 1.1910 - acc: 0.6730\n",
            "Epoch 2/5\n",
            "1000/1000 [==============================] - 0s 139us/sample - loss: 0.4325 - acc: 0.8770\n",
            "Epoch 3/5\n",
            "1000/1000 [==============================] - 0s 138us/sample - loss: 0.2910 - acc: 0.9190\n",
            "Epoch 4/5\n",
            "1000/1000 [==============================] - 0s 145us/sample - loss: 0.2123 - acc: 0.9480\n",
            "Epoch 5/5\n",
            "1000/1000 [==============================] - 0s 151us/sample - loss: 0.1627 - acc: 0.9700\n"
          ],
          "name": "stdout"
        },
        {
          "output_type": "execute_result",
          "data": {
            "text/plain": [
              "<tensorflow.python.keras.callbacks.History at 0x7f600c0e8cf8>"
            ]
          },
          "metadata": {
            "tags": []
          },
          "execution_count": 18
        }
      ]
    },
    {
      "cell_type": "code",
      "metadata": {
        "id": "4F1fWpPU34PW",
        "colab_type": "code",
        "outputId": "0d4a0fd8-dc80-4e79-cbf1-26deb33e0c87",
        "colab": {
          "base_uri": "https://localhost:8080/",
          "height": 547
        }
      },
      "source": [
        "import time\n",
        "\n",
        "saved_model_path = \"./saved_models/\"+str(int(time.time()))\n",
        "tf.contrib.saved_model.save_keras_model(model, saved_model_path)"
      ],
      "execution_count": 0,
      "outputs": [
        {
          "output_type": "stream",
          "text": [
            "W0818 03:58:01.616301 140051597113216 lazy_loader.py:50] \n",
            "The TensorFlow contrib module will not be included in TensorFlow 2.0.\n",
            "For more information, please see:\n",
            "  * https://github.com/tensorflow/community/blob/master/rfcs/20180907-contrib-sunset.md\n",
            "  * https://github.com/tensorflow/addons\n",
            "  * https://github.com/tensorflow/io (for I/O related ops)\n",
            "If you depend on functionality not listed there, please file an issue.\n",
            "\n",
            "W0818 03:58:02.740245 140051597113216 util.py:144] Unresolved object in checkpoint: (root).optimizer.iter\n",
            "W0818 03:58:02.742094 140051597113216 util.py:144] Unresolved object in checkpoint: (root).optimizer.beta_1\n",
            "W0818 03:58:02.746789 140051597113216 util.py:144] Unresolved object in checkpoint: (root).optimizer.beta_2\n",
            "W0818 03:58:02.750587 140051597113216 util.py:144] Unresolved object in checkpoint: (root).optimizer.decay\n",
            "W0818 03:58:02.758590 140051597113216 util.py:144] Unresolved object in checkpoint: (root).optimizer.learning_rate\n",
            "W0818 03:58:02.760432 140051597113216 util.py:144] Unresolved object in checkpoint: (root).optimizer's state 'm' for (root).layer_with_weights-0.kernel\n",
            "W0818 03:58:02.762484 140051597113216 util.py:144] Unresolved object in checkpoint: (root).optimizer's state 'm' for (root).layer_with_weights-0.bias\n",
            "W0818 03:58:02.763242 140051597113216 util.py:144] Unresolved object in checkpoint: (root).optimizer's state 'm' for (root).layer_with_weights-1.kernel\n",
            "W0818 03:58:02.764418 140051597113216 util.py:144] Unresolved object in checkpoint: (root).optimizer's state 'm' for (root).layer_with_weights-1.bias\n",
            "W0818 03:58:02.765542 140051597113216 util.py:144] Unresolved object in checkpoint: (root).optimizer's state 'v' for (root).layer_with_weights-0.kernel\n",
            "W0818 03:58:02.766252 140051597113216 util.py:144] Unresolved object in checkpoint: (root).optimizer's state 'v' for (root).layer_with_weights-0.bias\n",
            "W0818 03:58:02.767393 140051597113216 util.py:144] Unresolved object in checkpoint: (root).optimizer's state 'v' for (root).layer_with_weights-1.kernel\n",
            "W0818 03:58:02.768566 140051597113216 util.py:144] Unresolved object in checkpoint: (root).optimizer's state 'v' for (root).layer_with_weights-1.bias\n",
            "W0818 03:58:02.769809 140051597113216 util.py:152] A checkpoint was restored (e.g. tf.train.Checkpoint.restore or tf.keras.Model.load_weights) but not all checkpointed values were used. See above for specific issues. Use expect_partial() on the load status object, e.g. tf.train.Checkpoint.restore(...).expect_partial(), to silence these warnings, or use assert_consumed() to make the check explicit. See https://www.tensorflow.org/alpha/guide/checkpoints#loading_mechanics for details.\n",
            "W0818 03:58:03.074520 140051597113216 deprecation.py:323] From <ipython-input-19-998dfe524d77>:4: export_saved_model (from tensorflow.python.keras.saving.saved_model_experimental) is deprecated and will be removed in a future version.\n",
            "Instructions for updating:\n",
            "Please use `model.save(..., save_format=\"tf\")` or `tf.keras.models.save_model(..., save_format=\"tf\")`.\n",
            "W0818 03:58:03.736285 140051597113216 deprecation.py:323] From /usr/local/lib/python3.6/dist-packages/tensorflow_core/python/saved_model/signature_def_utils_impl.py:253: build_tensor_info (from tensorflow.python.saved_model.utils_impl) is deprecated and will be removed in a future version.\n",
            "Instructions for updating:\n",
            "This function will only be available through the v1 compatibility library as tf.compat.v1.saved_model.utils.build_tensor_info or tf.compat.v1.saved_model.build_tensor_info.\n",
            "W0818 03:58:03.738459 140051597113216 export_utils.py:182] Export includes no default signature!\n",
            "W0818 03:58:03.964774 140051597113216 export_utils.py:182] Export includes no default signature!\n"
          ],
          "name": "stderr"
        }
      ]
    },
    {
      "cell_type": "code",
      "metadata": {
        "id": "NCykdEQ33-3Y",
        "colab_type": "code",
        "outputId": "959b682c-1ec1-4930-ca81-ebbbaf4760a0",
        "colab": {
          "base_uri": "https://localhost:8080/",
          "height": 34
        }
      },
      "source": [
        "!ls {saved_model_path}"
      ],
      "execution_count": 0,
      "outputs": [
        {
          "output_type": "stream",
          "text": [
            "assets\tsaved_model.pb\tvariables\n"
          ],
          "name": "stdout"
        }
      ]
    },
    {
      "cell_type": "markdown",
      "metadata": {
        "id": "YnAggOiK4KiM",
        "colab_type": "text"
      },
      "source": [
        "Reload a fresh keras model from the saved model."
      ]
    },
    {
      "cell_type": "code",
      "metadata": {
        "id": "WM1r2-eF4Fzv",
        "colab_type": "code",
        "outputId": "b52251b6-74bd-4757-93a1-718d2f5e1964",
        "colab": {
          "base_uri": "https://localhost:8080/",
          "height": 802
        }
      },
      "source": [
        "new_model = tf.contrib.saved_model.load_keras_model(saved_model_path)\n",
        "new_model.summary()"
      ],
      "execution_count": 0,
      "outputs": [
        {
          "output_type": "stream",
          "text": [
            "W0818 03:58:51.996727 140051597113216 deprecation.py:323] From <ipython-input-21-f5ba023fc0b4>:1: load_from_saved_model (from tensorflow.python.keras.saving.saved_model_experimental) is deprecated and will be removed in a future version.\n",
            "Instructions for updating:\n",
            "The experimental save and load functions have been  deprecated. Please switch to `tf.keras.models.load_model`.\n",
            "W0818 03:58:52.072551 140051597113216 util.py:144] Unresolved object in checkpoint: (root).optimizer.beta_1\n",
            "W0818 03:58:52.073704 140051597113216 util.py:144] Unresolved object in checkpoint: (root).optimizer.beta_2\n",
            "W0818 03:58:52.079524 140051597113216 util.py:144] Unresolved object in checkpoint: (root).optimizer.decay\n",
            "W0818 03:58:52.081061 140051597113216 util.py:144] Unresolved object in checkpoint: (root).optimizer.learning_rate\n",
            "W0818 03:58:52.085735 140051597113216 util.py:144] Unresolved object in checkpoint: (root).optimizer's state 'm' for (root).layer_with_weights-0.kernel\n",
            "W0818 03:58:52.090070 140051597113216 util.py:144] Unresolved object in checkpoint: (root).optimizer's state 'm' for (root).layer_with_weights-0.bias\n",
            "W0818 03:58:52.092892 140051597113216 util.py:144] Unresolved object in checkpoint: (root).optimizer's state 'm' for (root).layer_with_weights-1.kernel\n",
            "W0818 03:58:52.095167 140051597113216 util.py:144] Unresolved object in checkpoint: (root).optimizer's state 'm' for (root).layer_with_weights-1.bias\n",
            "W0818 03:58:52.097882 140051597113216 util.py:144] Unresolved object in checkpoint: (root).optimizer's state 'v' for (root).layer_with_weights-0.kernel\n",
            "W0818 03:58:52.100173 140051597113216 util.py:144] Unresolved object in checkpoint: (root).optimizer's state 'v' for (root).layer_with_weights-0.bias\n",
            "W0818 03:58:52.102694 140051597113216 util.py:144] Unresolved object in checkpoint: (root).optimizer's state 'v' for (root).layer_with_weights-1.kernel\n",
            "W0818 03:58:52.105095 140051597113216 util.py:144] Unresolved object in checkpoint: (root).optimizer's state 'v' for (root).layer_with_weights-1.bias\n",
            "W0818 03:58:52.107680 140051597113216 util.py:152] A checkpoint was restored (e.g. tf.train.Checkpoint.restore or tf.keras.Model.load_weights) but not all checkpointed values were used. See above for specific issues. Use expect_partial() on the load status object, e.g. tf.train.Checkpoint.restore(...).expect_partial(), to silence these warnings, or use assert_consumed() to make the check explicit. See https://www.tensorflow.org/alpha/guide/checkpoints#loading_mechanics for details.\n",
            "W0818 03:58:52.113003 140051597113216 util.py:144] Unresolved object in checkpoint: (root).optimizer\n",
            "W0818 03:58:52.114670 140051597113216 util.py:144] Unresolved object in checkpoint: (root).optimizer.iter\n",
            "W0818 03:58:52.117006 140051597113216 util.py:144] Unresolved object in checkpoint: (root).optimizer.beta_1\n",
            "W0818 03:58:52.120920 140051597113216 util.py:144] Unresolved object in checkpoint: (root).optimizer.beta_2\n",
            "W0818 03:58:52.123304 140051597113216 util.py:144] Unresolved object in checkpoint: (root).optimizer.decay\n",
            "W0818 03:58:52.125903 140051597113216 util.py:144] Unresolved object in checkpoint: (root).optimizer.learning_rate\n",
            "W0818 03:58:52.128048 140051597113216 util.py:144] Unresolved object in checkpoint: (root).optimizer's state 'm' for (root).layer_with_weights-0.kernel\n",
            "W0818 03:58:52.129561 140051597113216 util.py:144] Unresolved object in checkpoint: (root).optimizer's state 'm' for (root).layer_with_weights-0.bias\n",
            "W0818 03:58:52.131486 140051597113216 util.py:144] Unresolved object in checkpoint: (root).optimizer's state 'm' for (root).layer_with_weights-1.kernel\n",
            "W0818 03:58:52.133471 140051597113216 util.py:144] Unresolved object in checkpoint: (root).optimizer's state 'm' for (root).layer_with_weights-1.bias\n",
            "W0818 03:58:52.135376 140051597113216 util.py:144] Unresolved object in checkpoint: (root).optimizer's state 'v' for (root).layer_with_weights-0.kernel\n",
            "W0818 03:58:52.137823 140051597113216 util.py:144] Unresolved object in checkpoint: (root).optimizer's state 'v' for (root).layer_with_weights-0.bias\n",
            "W0818 03:58:52.139855 140051597113216 util.py:144] Unresolved object in checkpoint: (root).optimizer's state 'v' for (root).layer_with_weights-1.kernel\n",
            "W0818 03:58:52.142032 140051597113216 util.py:144] Unresolved object in checkpoint: (root).optimizer's state 'v' for (root).layer_with_weights-1.bias\n",
            "W0818 03:58:52.143944 140051597113216 util.py:152] A checkpoint was restored (e.g. tf.train.Checkpoint.restore or tf.keras.Model.load_weights) but not all checkpointed values were used. See above for specific issues. Use expect_partial() on the load status object, e.g. tf.train.Checkpoint.restore(...).expect_partial(), to silence these warnings, or use assert_consumed() to make the check explicit. See https://www.tensorflow.org/alpha/guide/checkpoints#loading_mechanics for details.\n"
          ],
          "name": "stderr"
        },
        {
          "output_type": "stream",
          "text": [
            "Model: \"sequential_7\"\n",
            "_________________________________________________________________\n",
            "Layer (type)                 Output Shape              Param #   \n",
            "=================================================================\n",
            "dense_14 (Dense)             (None, 512)               401920    \n",
            "_________________________________________________________________\n",
            "dropout_7 (Dropout)          (None, 512)               0         \n",
            "_________________________________________________________________\n",
            "dense_15 (Dense)             (None, 10)                5130      \n",
            "=================================================================\n",
            "Total params: 407,050\n",
            "Trainable params: 407,050\n",
            "Non-trainable params: 0\n",
            "_________________________________________________________________\n"
          ],
          "name": "stdout"
        }
      ]
    },
    {
      "cell_type": "markdown",
      "metadata": {
        "id": "MEXqiVUn4PPi",
        "colab_type": "text"
      },
      "source": [
        "Run the restored model."
      ]
    },
    {
      "cell_type": "code",
      "metadata": {
        "id": "K_nGcU9N4LLn",
        "colab_type": "code",
        "outputId": "8f6c508b-3af5-431d-e317-a90a79589fb1",
        "colab": {
          "base_uri": "https://localhost:8080/",
          "height": 51
        }
      },
      "source": [
        "# The model has to be compiled before evaluating.\n",
        "# This step is not required if the saved model is only being deployed.\n",
        "\n",
        "new_model.compile(optimizer=tf.keras.optimizers.Adam(),\n",
        "              loss=tf.keras.losses.sparse_categorical_crossentropy,\n",
        "              metrics=['accuracy'])\n",
        "\n",
        "# Evaluate the restored model.\n",
        "loss, acc = new_model.evaluate(test_images, test_labels)\n",
        "print(\"Restored model, accuracy: {:5.2f}%\".format(100*acc))"
      ],
      "execution_count": 0,
      "outputs": [
        {
          "output_type": "stream",
          "text": [
            "1000/1000 [==============================] - 0s 105us/sample - loss: 0.4293 - acc: 0.8580\n",
            "Restored model, accuracy: 85.80%\n"
          ],
          "name": "stdout"
        }
      ]
    },
    {
      "cell_type": "markdown",
      "metadata": {
        "id": "LC_mPwPT4dvE",
        "colab_type": "text"
      },
      "source": [
        "# Conclusion #\n",
        "That was a quick guide to saving and loading in with tf.keras."
      ]
    },
    {
      "cell_type": "markdown",
      "metadata": {
        "id": "CMqSAyep44TS",
        "colab_type": "text"
      },
      "source": [
        "# Reference #\n",
        "\n",
        "[Source](https://www.tensorflow.org/tutorials/keras/save_and_restore_models)\n",
        "\n",
        "Prepared by: [Wong Jian Zhi](https://github.com/jianzhiw)"
      ]
    },
    {
      "cell_type": "code",
      "metadata": {
        "id": "kqd8iKK24Rxt",
        "colab_type": "code",
        "colab": {}
      },
      "source": [
        "#@title MIT License\n",
        "#\n",
        "# Copyright (c) 2017 François Chollet\n",
        "#\n",
        "# Permission is hereby granted, free of charge, to any person obtaining a\n",
        "# copy of this software and associated documentation files (the \"Software\"),\n",
        "# to deal in the Software without restriction, including without limitation\n",
        "# the rights to use, copy, modify, merge, publish, distribute, sublicense,\n",
        "# and/or sell copies of the Software, and to permit persons to whom the\n",
        "# Software is furnished to do so, subject to the following conditions:\n",
        "#\n",
        "# The above copyright notice and this permission notice shall be included in\n",
        "# all copies or substantial portions of the Software.\n",
        "#\n",
        "# THE SOFTWARE IS PROVIDED \"AS IS\", WITHOUT WARRANTY OF ANY KIND, EXPRESS OR\n",
        "# IMPLIED, INCLUDING BUT NOT LIMITED TO THE WARRANTIES OF MERCHANTABILITY,\n",
        "# FITNESS FOR A PARTICULAR PURPOSE AND NONINFRINGEMENT. IN NO EVENT SHALL\n",
        "# THE AUTHORS OR COPYRIGHT HOLDERS BE LIABLE FOR ANY CLAIM, DAMAGES OR OTHER\n",
        "# LIABILITY, WHETHER IN AN ACTION OF CONTRACT, TORT OR OTHERWISE, ARISING\n",
        "# FROM, OUT OF OR IN CONNECTION WITH THE SOFTWARE OR THE USE OR OTHER\n",
        "# DEALINGS IN THE SOFTWARE."
      ],
      "execution_count": 0,
      "outputs": []
    }
  ]
}