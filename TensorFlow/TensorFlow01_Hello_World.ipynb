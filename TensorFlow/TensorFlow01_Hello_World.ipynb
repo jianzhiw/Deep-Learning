{
  "nbformat": 4,
  "nbformat_minor": 0,
  "metadata": {
    "colab": {
      "name": "TensorFlow01 - Hello World.ipynb",
      "version": "0.3.2",
      "provenance": [],
      "collapsed_sections": [],
      "toc_visible": true,
      "include_colab_link": true
    },
    "kernelspec": {
      "name": "python3",
      "display_name": "Python 3"
    },
    "accelerator": "GPU"
  },
  "cells": [
    {
      "cell_type": "markdown",
      "metadata": {
        "id": "view-in-github",
        "colab_type": "text"
      },
      "source": [
        "<a href=\"https://colab.research.google.com/github/jianzhiw/Deep-Learning/blob/master/TensorFlow/TensorFlow01_Hello_World.ipynb\" target=\"_parent\"><img src=\"https://colab.research.google.com/assets/colab-badge.svg\" alt=\"Open In Colab\"/></a>"
      ]
    },
    {
      "cell_type": "markdown",
      "metadata": {
        "id": "mcQkfVTGglrR",
        "colab_type": "text"
      },
      "source": [
        "# TensorFlow #\n",
        "\n",
        "[Tensorflow](https://www.tensorflow.org/tutorials)  was developed by the Google Brain team for internal Google use. It is a free and open-source software library for dataflow and differentiable programming across a range of tasks."
      ]
    },
    {
      "cell_type": "markdown",
      "metadata": {
        "id": "gukXG1MolW6y",
        "colab_type": "text"
      },
      "source": [
        "# Fashion MNIST Dataset #\n",
        "\n",
        "We are going to create a neural network model to classify images of clothing.  [Fashion MNIST](https://github.com/zalandoresearch/fashion-mnist) dataset which contains 70,000 grayscale images in 10 categories. The images show individual articles of clothing at low resolution (28 by 28 pixels).\n",
        "<br></br>\n",
        "The reasons of not using the classic MNIST dataset is that MNIST is too easy and overused in all the tutorials. Classic MNIST can simply achieve 99.7% accuracy using [convolutional neural network](http://cs231n.github.io/convolutional-networks/). \n",
        "<br></br>\n",
        "This guide uses Fashion MNIST for variety, and because it's a slightly more challenging problem than regular MNIST. Both datasets are relatively small and are used to verify that an algorithm works as expected. They're good starting points to test and debug code.\n",
        "<br></br>\n",
        "We will use 60,000 images to train the network and 10,000 images to evaluate how accurately the network learned to classify images. You can access the Fashion MNIST directly from TensorFlow, just import and load the data:"
      ]
    },
    {
      "cell_type": "code",
      "metadata": {
        "id": "9ANh2McZfW-I",
        "colab_type": "code",
        "colab": {}
      },
      "source": [
        "from __future__ import absolute_import, division, print_function, unicode_literals\n",
        "\n",
        "# TensorFlow and tf.keras\n",
        "import tensorflow as tf\n",
        "from tensorflow import keras\n",
        "\n",
        "# Helper libraries\n",
        "import numpy as np\n",
        "import matplotlib.pyplot as plt\n",
        "\n",
        "print(tf.__version__)"
      ],
      "execution_count": 0,
      "outputs": []
    },
    {
      "cell_type": "code",
      "metadata": {
        "id": "BKcZYB03mNn0",
        "colab_type": "code",
        "colab": {}
      },
      "source": [
        "fashion_mnist = keras.datasets.fashion_mnist\n",
        "\n",
        "(train_images, train_labels), (test_images, test_labels) = fashion_mnist.load_data()"
      ],
      "execution_count": 0,
      "outputs": []
    },
    {
      "cell_type": "markdown",
      "metadata": {
        "id": "XkGak8Ann9Pk",
        "colab_type": "text"
      },
      "source": [
        "Loading the dataset returns four NumPy arrays:\n",
        "*   The train_images and train_labels arrays are the training set—the data the model uses to learn.\n",
        "*   The model is tested against the test set, the test_images, and test_labels arrays.\n",
        "<br></br>\n",
        "\n",
        "The images are 28x28 NumPy arrays, with pixel values ranging between 0 and 255. The labels are an array of integers, ranging from 0 to 9. These correspond to the class of clothing the image represents:\n",
        "\n",
        "<table>\n",
        "  <tr><th>Label</th><th>Class</th></tr>\n",
        "  <tr><td>0</td><td>T-Shirt/top</td></tr>\n",
        "  <tr><td>1</td><td>Trouser</td></tr>\n",
        "  <tr><td>2</td><td>Pullover</td></tr>\n",
        "  <tr><td>3</td><td>Dress</td></tr>\n",
        "  <tr><td>4</td><td>Coat</td></tr>\n",
        "  <tr><td>5</td><td>Sandal</td></tr>\n",
        "  <tr><td>6</td><td>Shirt</td></tr>\n",
        "  <tr><td>7</td><td>Sneaker</td></tr>\n",
        "  <tr><td>8</td><td>Bag</td></tr>\n",
        "  <tr><td>9</td><td>Ankle Boot</td></tr>\n",
        "</table>"
      ]
    },
    {
      "cell_type": "markdown",
      "metadata": {
        "id": "tnROJ5UMpU-d",
        "colab_type": "text"
      },
      "source": [
        "Each image is mapped to a single label. Since the class names are not included with the dataset, store them here to use later when plotting the images:"
      ]
    },
    {
      "cell_type": "code",
      "metadata": {
        "id": "qB8xLvZ6n2r9",
        "colab_type": "code",
        "colab": {}
      },
      "source": [
        "class_names = ['T-shirt/top', 'Trouser', 'Pullover', 'Dress', 'Coat',\n",
        "               'Sandal', 'Shirt', 'Sneaker', 'Bag', 'Ankle boot']"
      ],
      "execution_count": 0,
      "outputs": []
    },
    {
      "cell_type": "markdown",
      "metadata": {
        "id": "An-O_7RopcTW",
        "colab_type": "text"
      },
      "source": [
        "# Explore the Data #"
      ]
    },
    {
      "cell_type": "code",
      "metadata": {
        "id": "brHcog3Lpiih",
        "colab_type": "code",
        "colab": {}
      },
      "source": [
        "print('Number of images and its size in training dataset: ', train_images.shape)\n",
        "print('Number of labels in training dataset: ', len(train_labels))\n",
        "print('Sample output of each labels: ', train_labels)\n",
        "print('Number of images and its size in testing dataset: ', test_images.shape)\n",
        "print('Number of labels in testing dataset: ', len(test_labels))"
      ],
      "execution_count": 0,
      "outputs": []
    },
    {
      "cell_type": "markdown",
      "metadata": {
        "id": "Lc8ooCsWq-Eb",
        "colab_type": "text"
      },
      "source": [
        "# Preprocess the Dataset #\n",
        "\n",
        "The data must be preprocessed before training the network. If you inspect the first image in the training set, you will see that the pixel values fall in the range of 0 to 255:"
      ]
    },
    {
      "cell_type": "code",
      "metadata": {
        "id": "LDD38-IDqm1q",
        "colab_type": "code",
        "colab": {}
      },
      "source": [
        "plt.figure()\n",
        "plt.imshow(train_images[0])\n",
        "plt.colorbar()\n",
        "plt.grid(False)\n",
        "plt.show()"
      ],
      "execution_count": 0,
      "outputs": []
    },
    {
      "cell_type": "markdown",
      "metadata": {
        "id": "bD2JGtUHroux",
        "colab_type": "text"
      },
      "source": [
        "We scale these values to a range of 0 to 1 before feeding to the neural network model. For this, we divide the values by 255. It's important that the training set and the testing set are preprocessed in the same way.\n",
        "<br></br>\n",
        "Why scale to a range of 0 to 1? To normalize the data so that the dataset has a normal distribution with mean = 0 and standard deviation = 1.\n",
        "<br></br>\n",
        "Why divided by 255? This is because the colour R,G,B (Red, Green, Blue) are 8 bit each. The range of each individual colour has a total of 256 values, ranging from 0 - 255 (2<sup>8</sup> = 256)."
      ]
    },
    {
      "cell_type": "code",
      "metadata": {
        "id": "BxPekTJ7rcGZ",
        "colab_type": "code",
        "colab": {}
      },
      "source": [
        "train_images = train_images / 255.0\n",
        "\n",
        "test_images = test_images / 255.0"
      ],
      "execution_count": 0,
      "outputs": []
    },
    {
      "cell_type": "markdown",
      "metadata": {
        "id": "nWiXSj_xtVty",
        "colab_type": "text"
      },
      "source": [
        "Display the first 25 images from the training set and display the class name below each image. Verify that the data is in the correct format and we're ready to build and train the network."
      ]
    },
    {
      "cell_type": "code",
      "metadata": {
        "id": "wDPW8wJmsycP",
        "colab_type": "code",
        "colab": {}
      },
      "source": [
        "plt.figure(figsize=(10,10))\n",
        "for i in range(25):\n",
        "    plt.subplot(5,5,i+1)\n",
        "    plt.xticks([])\n",
        "    plt.yticks([])\n",
        "    plt.grid(False)\n",
        "    plt.imshow(train_images[i], cmap=plt.cm.binary)\n",
        "    plt.xlabel(class_names[train_labels[i]])\n",
        "plt.show()"
      ],
      "execution_count": 0,
      "outputs": []
    },
    {
      "cell_type": "markdown",
      "metadata": {
        "id": "_WqPP1xttmz2",
        "colab_type": "text"
      },
      "source": [
        "# Build the model #\n",
        "Building the neural network requires configuring the layers of the model, then compiling the model.\n",
        "\n",
        "## Setup the layers ##\n",
        "The basic building block of a neural network is the layer. Layers extract representations from the data fed into them. And, hopefully, these representations are more meaningful for the problem at hand.\n",
        "<br></br>\n",
        "Most of deep learning consists of chaining together simple layers. Most layers, like _tf.keras.layers.Dense_, have parameters that are learned during training.\n",
        "\n",
        "\n",
        "\n",
        "\n",
        "\n"
      ]
    },
    {
      "cell_type": "code",
      "metadata": {
        "id": "s3iTQ6Y4tb_i",
        "colab_type": "code",
        "colab": {}
      },
      "source": [
        "model = keras.Sequential([\n",
        "    keras.layers.Flatten(input_shape=(28, 28)),\n",
        "    keras.layers.Dense(128, activation=tf.nn.relu),\n",
        "    keras.layers.Dense(10, activation=tf.nn.softmax)\n",
        "])"
      ],
      "execution_count": 0,
      "outputs": []
    },
    {
      "cell_type": "markdown",
      "metadata": {
        "id": "Wg92Q6Pvu9aw",
        "colab_type": "text"
      },
      "source": [
        "The first layer in this network, [tf.keras.layers.Flatten](https://www.tensorflow.org/api_docs/python/tf/keras/layers/Flatten), transforms the format of the images from a 2d-array (of 28 by 28 pixels), to a 1d-array of 28 * 28 = 784 pixels. Think of this layer as unstacking rows of pixels in the image and lining them up. This layer has no parameters to learn; it only reformats the data.\n",
        "<br></br>\n",
        "After the pixels are flattened, the network consists of a sequence of two [tf.keras.layers.Dense](https://www.tensorflow.org/api_docs/python/tf/keras/layers/Dense) layers. These are densely-connected, or fully-connected, neural layers. The first Dense layer has 128 nodes (or neurons). The second (and last) layer is a 10-node softmax layer—this returns an array of 10 probability scores that sum to 1. Each node contains a score that indicates the probability that the current image belongs to one of the 10 classes."
      ]
    },
    {
      "cell_type": "markdown",
      "metadata": {
        "id": "A1OUc2mlv5hi",
        "colab_type": "text"
      },
      "source": [
        "# What are activators, ReLU and softmax? #\n",
        "\n",
        "The activation function of a node defines the output of that node given an input or set of inputs. Basically, it is a simple mathematical function. \n",
        "\n",
        "##ReLU (Rectified Linear Unit) ##\n",
        "\n",
        "$ f(x) = x^+ = max(0,x) $\n",
        "\n",
        "Or in clearer notation: \n",
        "$ f(x) = \\left\\{\\begin{matrix}\n",
        "x, x > 0\\\\ \n",
        "0, otherwise\n",
        "\\end{matrix}\\right. $\n",
        "\n",
        "![ReLU](https://miro.medium.com/max/357/1*oePAhrm74RNnNEolprmTaQ.png)\n",
        "\n",
        "## Softmax ##\n",
        "\n",
        "$ f(x_i) = \\frac{e^{x_i}}{\\sum_{j}e^{x_j}} $\n",
        "\n",
        "In numpy,\n",
        "\n",
        "\n",
        "\n",
        "> def softmax(x): return np.exp(x) / np.sum(np.exp(x), axis = 0)\n",
        "\n",
        "![SoftMax](https://i1.wp.com/dataaspirant.com/wp-content/uploads/2017/03/Softmax_Graph.png?resize=690%2C518)"
      ]
    },
    {
      "cell_type": "markdown",
      "metadata": {
        "id": "E4Yx1iIc1isU",
        "colab_type": "text"
      },
      "source": [
        "# Compile the model #\n",
        "Before the model is ready for training, it needs a few more settings. These are added during the model's compile step:\n",
        "\n",
        "* Loss function —This measures how accurate the model is during training. We want to minimize this function to \"steer\" the model in the right direction.\n",
        "* Optimizer —This is how the model is updated based on the data it sees and its loss function.\n",
        "* Metrics —Used to monitor the training and testing steps. The following example uses accuracy, the fraction of the images that are correctly classified."
      ]
    },
    {
      "cell_type": "markdown",
      "metadata": {
        "id": "mTwGN7Lp2Vln",
        "colab_type": "text"
      },
      "source": [
        "## Who is ADAM ##\n",
        "\n",
        "The Adaptive Moment Estimation or [Adam optimization algorithm](https://machinelearningmastery.com/adam-optimization-algorithm-for-deep-learning/) is one of those algorithms that work well across a wide range of deep learning architectures. It is recommended by many well-known neural network algorithm experts. The Adam optimization algorithm is a combination of gradient descent with momentum and RMSprop algorithms.\n",
        "\n",
        "## What about cross-entropy? ##\n",
        "\n",
        "[Cross entropy](https://medium.com/activating-robotic-minds/demystifying-cross-entropy-e80e3ad54a8) tells us the theoretical minimum average encoding size for events that follow a particular probability distribution.\n",
        "\n",
        "$ Cross Entropy(p,q) = \\sum - p \\log(q) $"
      ]
    },
    {
      "cell_type": "code",
      "metadata": {
        "id": "naeZE3DR1a1h",
        "colab_type": "code",
        "colab": {}
      },
      "source": [
        "model.compile(optimizer='adam',\n",
        "              loss='sparse_categorical_crossentropy',\n",
        "              metrics=['accuracy'])"
      ],
      "execution_count": 0,
      "outputs": []
    },
    {
      "cell_type": "markdown",
      "metadata": {
        "id": "IKWC-LA82N4P",
        "colab_type": "text"
      },
      "source": [
        "# Train the model #\n",
        "Training the neural network model requires the following steps:\n",
        "\n",
        "1. Feed the training data to the model—in this example, the train_images and train_labels arrays.\n",
        "2. The model learns to associate images and labels.\n",
        "3. We ask the model to make predictions about a test set—in this example, the test_images array. We verify that the predictions match the labels from the test_labels array.\n",
        "<br>\n",
        "\n",
        "To start training, call the [*model.fit*](https://www.tensorflow.org/api_docs/python/tf/keras/Model) method—the model is \"fit\" to the training data:"
      ]
    },
    {
      "cell_type": "code",
      "metadata": {
        "id": "4yd0RM1J1vbp",
        "colab_type": "code",
        "colab": {}
      },
      "source": [
        "model.fit(train_images, train_labels, epochs=5)"
      ],
      "execution_count": 0,
      "outputs": []
    },
    {
      "cell_type": "markdown",
      "metadata": {
        "id": "HjQus8x-7DSS",
        "colab_type": "text"
      },
      "source": [
        "# Evaluate accuracy #\n",
        "Next, compare how the model performs on the test dataset:"
      ]
    },
    {
      "cell_type": "code",
      "metadata": {
        "id": "0V1zfsm36_rt",
        "colab_type": "code",
        "colab": {}
      },
      "source": [
        "test_loss, test_acc = model.evaluate(test_images, test_labels)\n",
        "\n",
        "print('Test accuracy:', test_acc)"
      ],
      "execution_count": 0,
      "outputs": []
    },
    {
      "cell_type": "markdown",
      "metadata": {
        "id": "LtmPyhS37VaP",
        "colab_type": "text"
      },
      "source": [
        "It turns out, the accuracy on the test dataset is a little less than the accuracy on the training dataset. This gap between training accuracy and test accuracy is an example of overfitting. Overfitting is when a machine learning model performs worse on new data than on their training data."
      ]
    },
    {
      "cell_type": "markdown",
      "metadata": {
        "id": "mn2ZLGLy7Y10",
        "colab_type": "text"
      },
      "source": [
        "# Make predictions #\n",
        "With the model trained, we can use it to make predictions about some images."
      ]
    },
    {
      "cell_type": "code",
      "metadata": {
        "id": "4t1n1CdT7KA9",
        "colab_type": "code",
        "colab": {}
      },
      "source": [
        "predictions = model.predict(test_images)"
      ],
      "execution_count": 0,
      "outputs": []
    },
    {
      "cell_type": "markdown",
      "metadata": {
        "id": "Abzzc9-A7gXc",
        "colab_type": "text"
      },
      "source": [
        "Here, the model has predicted the label for each image in the testing set. Let's take a look at the first prediction:"
      ]
    },
    {
      "cell_type": "code",
      "metadata": {
        "id": "y2HKc1MQ7eC3",
        "colab_type": "code",
        "colab": {}
      },
      "source": [
        "predictions[0]"
      ],
      "execution_count": 0,
      "outputs": []
    },
    {
      "cell_type": "markdown",
      "metadata": {
        "id": "f1s9Tzja7l3t",
        "colab_type": "text"
      },
      "source": [
        "A prediction is an array of 10 numbers. These describe the \"confidence\" of the model that the image corresponds to each of the 10 different articles of clothing. We can see which label has the highest confidence value:"
      ]
    },
    {
      "cell_type": "code",
      "metadata": {
        "id": "zuiqn3ND7ilQ",
        "colab_type": "code",
        "colab": {}
      },
      "source": [
        "np.argmax(predictions[0])"
      ],
      "execution_count": 0,
      "outputs": []
    },
    {
      "cell_type": "markdown",
      "metadata": {
        "id": "JcG6FtLA7s8n",
        "colab_type": "text"
      },
      "source": [
        "The function above shows the model is most confident that this image belongs to the class respectively. And we can check the test label to see this is correct:"
      ]
    },
    {
      "cell_type": "code",
      "metadata": {
        "id": "8R5pTdwK7o6D",
        "colab_type": "code",
        "colab": {}
      },
      "source": [
        "test_labels[0]"
      ],
      "execution_count": 0,
      "outputs": []
    },
    {
      "cell_type": "markdown",
      "metadata": {
        "id": "2YoOMt3F8G_o",
        "colab_type": "text"
      },
      "source": [
        "We can graph this to look at the full set of 10 class predictions\n",
        "\n"
      ]
    },
    {
      "cell_type": "code",
      "metadata": {
        "id": "70t1bdF28C4Q",
        "colab_type": "code",
        "colab": {}
      },
      "source": [
        "def plot_image(i, predictions_array, true_label, img):\n",
        "  predictions_array, true_label, img = predictions_array[i], true_label[i], img[i]\n",
        "  plt.grid(False)\n",
        "  plt.xticks([])\n",
        "  plt.yticks([])\n",
        "  \n",
        "  plt.imshow(img, cmap=plt.cm.binary)\n",
        "  \n",
        "  predicted_label = np.argmax(predictions_array)\n",
        "  if predicted_label == true_label:\n",
        "    color = 'blue'\n",
        "  else:\n",
        "    color = 'red'\n",
        "  \n",
        "  plt.xlabel(\"{} {:2.0f}% ({})\".format(class_names[predicted_label],\n",
        "                                100*np.max(predictions_array),\n",
        "                                class_names[true_label]),\n",
        "                                color=color)\n",
        "\n",
        "def plot_value_array(i, predictions_array, true_label):\n",
        "  predictions_array, true_label = predictions_array[i], true_label[i]\n",
        "  plt.grid(False)\n",
        "  plt.xticks([])\n",
        "  plt.yticks([])\n",
        "  thisplot = plt.bar(range(10), predictions_array, color=\"#777777\")\n",
        "  plt.ylim([0, 1])\n",
        "  predicted_label = np.argmax(predictions_array)\n",
        "  \n",
        "  thisplot[predicted_label].set_color('red')\n",
        "  thisplot[true_label].set_color('blue')"
      ],
      "execution_count": 0,
      "outputs": []
    },
    {
      "cell_type": "code",
      "metadata": {
        "id": "_PpPzGz98N61",
        "colab_type": "code",
        "colab": {}
      },
      "source": [
        "i = 0\n",
        "plt.figure(figsize=(6,3))\n",
        "plt.subplot(1,2,1)\n",
        "plot_image(i, predictions, test_labels, test_images)\n",
        "plt.subplot(1,2,2)\n",
        "plot_value_array(i, predictions,  test_labels)\n",
        "plt.show()"
      ],
      "execution_count": 0,
      "outputs": []
    },
    {
      "cell_type": "code",
      "metadata": {
        "id": "SPStZ_Rt8Qa8",
        "colab_type": "code",
        "colab": {}
      },
      "source": [
        "i = 200\n",
        "plt.figure(figsize=(6,3))\n",
        "plt.subplot(1,2,1)\n",
        "plot_image(i, predictions, test_labels, test_images)\n",
        "plt.subplot(1,2,2)\n",
        "plot_value_array(i, predictions,  test_labels)\n",
        "plt.show()"
      ],
      "execution_count": 0,
      "outputs": []
    },
    {
      "cell_type": "markdown",
      "metadata": {
        "id": "BfjdYNSm8a_q",
        "colab_type": "text"
      },
      "source": [
        "Let's plot several images with their predictions. Correct prediction labels are blue and incorrect prediction labels are red. The number gives the percent (out of 100) for the predicted label. Note that it can be wrong even when very confident."
      ]
    },
    {
      "cell_type": "code",
      "metadata": {
        "id": "NBLZu9xK8VJh",
        "colab_type": "code",
        "colab": {}
      },
      "source": [
        "# Plot the first X test images, their predicted label, and the true label\n",
        "# Color correct predictions in blue, incorrect predictions in red\n",
        "num_rows = 5\n",
        "num_cols = 3\n",
        "num_images = num_rows*num_cols\n",
        "plt.figure(figsize=(2*2*num_cols, 2*num_rows))\n",
        "for i in range(num_images):\n",
        "  plt.subplot(num_rows, 2*num_cols, 2*i+1)\n",
        "  plot_image(i, predictions, test_labels, test_images)\n",
        "  plt.subplot(num_rows, 2*num_cols, 2*i+2)\n",
        "  plot_value_array(i, predictions, test_labels)\n",
        "plt.show()"
      ],
      "execution_count": 0,
      "outputs": []
    },
    {
      "cell_type": "markdown",
      "metadata": {
        "id": "78AculxD8lYg",
        "colab_type": "text"
      },
      "source": [
        "Finally, use the trained model to make a prediction about a single image."
      ]
    },
    {
      "cell_type": "code",
      "metadata": {
        "id": "Fdfn1apw8d7K",
        "colab_type": "code",
        "colab": {}
      },
      "source": [
        "# Grab an image from the test dataset\n",
        "img = test_images[0]\n",
        "\n",
        "print(img.shape)"
      ],
      "execution_count": 0,
      "outputs": []
    },
    {
      "cell_type": "markdown",
      "metadata": {
        "id": "E8yzdDdi8rqu",
        "colab_type": "text"
      },
      "source": [
        "tf.keras models are optimized to make predictions on a batch, or collection, of examples at once. So even though we're using a single image, we need to add it to a list:"
      ]
    },
    {
      "cell_type": "code",
      "metadata": {
        "id": "hNG36LrS8nMj",
        "colab_type": "code",
        "colab": {}
      },
      "source": [
        "# Add the image to a batch where it's the only member.\n",
        "img = (np.expand_dims(img,0))\n",
        "\n",
        "print(img.shape)\n"
      ],
      "execution_count": 0,
      "outputs": []
    },
    {
      "cell_type": "code",
      "metadata": {
        "id": "IptkqWH48va3",
        "colab_type": "code",
        "colab": {}
      },
      "source": [
        "predictions_single = model.predict(img)\n",
        "\n",
        "print(predictions_single)"
      ],
      "execution_count": 0,
      "outputs": []
    },
    {
      "cell_type": "code",
      "metadata": {
        "id": "SwzaTxy98xtJ",
        "colab_type": "code",
        "colab": {}
      },
      "source": [
        "plot_value_array(0, predictions_single, test_labels)\n",
        "plt.xticks(range(10), class_names, rotation=45)\n",
        "plt.show()"
      ],
      "execution_count": 0,
      "outputs": []
    },
    {
      "cell_type": "code",
      "metadata": {
        "id": "kGqpoZ0-8z4h",
        "colab_type": "code",
        "colab": {}
      },
      "source": [
        "prediction_result = np.argmax(predictions_single[0])\n",
        "print(prediction_result)"
      ],
      "execution_count": 0,
      "outputs": []
    },
    {
      "cell_type": "markdown",
      "metadata": {
        "id": "zNS3MGKGWaXs",
        "colab_type": "text"
      },
      "source": [
        "# Reference #\n",
        "[Source](https://www.tensorflow.org/)\n",
        "<br></br>​\n",
        "Prepared by: [Wong Jian Zhi](https://github.com/jianzhiw)"
      ]
    },
    {
      "cell_type": "code",
      "metadata": {
        "id": "OG5pguHw9F1y",
        "colab_type": "code",
        "colab": {}
      },
      "source": [
        "# MIT License\n",
        "#\n",
        "# Copyright (c) 2017 François Chollet\n",
        "#\n",
        "# Permission is hereby granted, free of charge, to any person obtaining a\n",
        "# copy of this software and associated documentation files (the \"Software\"),\n",
        "# to deal in the Software without restriction, including without limitation\n",
        "# the rights to use, copy, modify, merge, publish, distribute, sublicense,\n",
        "# and/or sell copies of the Software, and to permit persons to whom the\n",
        "# Software is furnished to do so, subject to the following conditions:\n",
        "#\n",
        "# The above copyright notice and this permission notice shall be included in\n",
        "# all copies or substantial portions of the Software.\n",
        "#\n",
        "# THE SOFTWARE IS PROVIDED \"AS IS\", WITHOUT WARRANTY OF ANY KIND, EXPRESS OR\n",
        "# IMPLIED, INCLUDING BUT NOT LIMITED TO THE WARRANTIES OF MERCHANTABILITY,\n",
        "# FITNESS FOR A PARTICULAR PURPOSE AND NONINFRINGEMENT. IN NO EVENT SHALL\n",
        "# THE AUTHORS OR COPYRIGHT HOLDERS BE LIABLE FOR ANY CLAIM, DAMAGES OR OTHER\n",
        "# LIABILITY, WHETHER IN AN ACTION OF CONTRACT, TORT OR OTHERWISE, ARISING\n",
        "# FROM, OUT OF OR IN CONNECTION WITH THE SOFTWARE OR THE USE OR OTHER\n",
        "# DEALINGS IN THE SOFTWARE."
      ],
      "execution_count": 0,
      "outputs": []
    }
  ]
}